{
 "cells": [
  {
   "cell_type": "code",
   "execution_count": 1,
   "metadata": {},
   "outputs": [],
   "source": [
    "import matplotlib.pyplot as plt\n",
    "import matplotlib.image as mpimg\n",
    "import numpy as np\n",
    "import random\n",
    "import sys\n",
    "from time import sleep\n",
    "from scipy.signal import convolve2d\n",
    "import matplotlib.cm as cm\n",
    "from PIL import Image"
   ]
  },
  {
   "cell_type": "code",
   "execution_count": 14,
   "metadata": {},
   "outputs": [],
   "source": [
    "img = Image.open('./img.png')"
   ]
  },
  {
   "cell_type": "code",
   "execution_count": 17,
   "metadata": {},
   "outputs": [
    {
     "data": {
      "text/plain": [
       "(237, 237)"
      ]
     },
     "execution_count": 17,
     "metadata": {},
     "output_type": "execute_result"
    }
   ],
   "source": [
    "img.size"
   ]
  },
  {
   "cell_type": "code",
   "execution_count": 3,
   "metadata": {},
   "outputs": [
    {
     "data": {
      "text/plain": [
       "PIL.PngImagePlugin.PngImageFile"
      ]
     },
     "execution_count": 3,
     "metadata": {},
     "output_type": "execute_result"
    }
   ],
   "source": [
    "type(img)"
   ]
  },
  {
   "cell_type": "code",
   "execution_count": 6,
   "metadata": {},
   "outputs": [
    {
     "data": {
      "text/plain": [
       "(237, 237)"
      ]
     },
     "execution_count": 6,
     "metadata": {},
     "output_type": "execute_result"
    }
   ],
   "source": [
    "img.size"
   ]
  },
  {
   "cell_type": "code",
   "execution_count": 18,
   "metadata": {},
   "outputs": [],
   "source": [
    "img = img.resize((200, 64), Image.ANTIALIAS)\n",
    "img = np.asarray(img)"
   ]
  },
  {
   "cell_type": "code",
   "execution_count": 22,
   "metadata": {},
   "outputs": [
    {
     "data": {
      "text/plain": [
       "(64, 200, 4)"
      ]
     },
     "execution_count": 22,
     "metadata": {},
     "output_type": "execute_result"
    }
   ],
   "source": [
    "img.shape"
   ]
  },
  {
   "cell_type": "code",
   "execution_count": 20,
   "metadata": {},
   "outputs": [
    {
     "data": {
      "text/plain": [
       "<matplotlib.image.AxesImage at 0x1a23ea4ad0>"
      ]
     },
     "execution_count": 20,
     "metadata": {},
     "output_type": "execute_result"
    },
    {
     "data": {
      "image/png": "[encoded data removed]",
      "text/plain": [
       "<Figure size 432x288 with 1 Axes>"
      ]
     },
     "metadata": {
      "needs_background": "light"
     },
     "output_type": "display_data"
    }
   ],
   "source": [
    "plt.imshow(img)"
   ]
  },
  {
   "cell_type": "code",
   "execution_count": 2,
   "metadata": {},
   "outputs": [],
   "source": [
    "def random_rectangle(img):\n",
    "    mask = np.ones(img.shape)\n",
    "    w, h = img.shape[:2]\n",
    "    img_area = w * h\n",
    "    mask_area = 0\n",
    "    offset = 10\n",
    "    \n",
    "    while 0.1 >= mask_area/img_area <= 0.4:\n",
    "        x1, y1 = random.randrange(offset, int(w*0.6)), random.randrange(offset, int(h*0.6))\n",
    "        x2, y2 = random.randrange(x1 + 1, w - offset), random.randrange(y1 + 1, h - offset)\n",
    "        \n",
    "        mask_area = (x2 - x1) * (y2 - y1)\n",
    "        \n",
    "    mask[x1:x2, y1:y2] = 0\n",
    "    \n",
    "    return mask"
   ]
  },
  {
   "cell_type": "code",
   "execution_count": 3,
   "metadata": {},
   "outputs": [],
   "source": [
    "def centered_rectangle(img):\n",
    "    mask = np.zeros(img.shape)\n",
    "    h, w = img.shape[:2]\n",
    "    img_area = w * h\n",
    "    mask_area = 0\n",
    "    cx, cy = int(h/2), int(w/2)\n",
    "    offset = 0\n",
    "    min_pix = 20\n",
    "    \n",
    "    while not (0.1 <= (mask_area/img_area) <= 0.4):\n",
    "        left = random.randrange(min_pix, int(w/2))\n",
    "        right = random.randrange(min_pix, int(w/2))\n",
    "        top = random.randrange(min_pix, int(h/2))\n",
    "        bottom = random.randrange(min_pix, int(h/2))\n",
    "\n",
    "        x1, y1 = cx - top, cy - left\n",
    "        x2, y2 = cx + bottom, cy + right\n",
    "\n",
    "        mask_area = (x2 - x1) * (y2 - y1)\n",
    "    \n",
    "    mask[x1:x2, y1:y2, :] = 1\n",
    "#     mask[cx, cy] = 1\n",
    "    \n",
    "    return mask"
   ]
  },
  {
   "cell_type": "code",
   "execution_count": 4,
   "metadata": {},
   "outputs": [],
   "source": [
    "def random_noise(image, percent):\n",
    "    row,col,ch = image.shape\n",
    "    mask = np.zeros((row, col, 3))\n",
    "    \n",
    "    unif = np.random.sample((row, col))\n",
    "    unif = unif.reshape(row,col)        \n",
    "    mask[unif > (1 - percent), :] = 1\n",
    "    \n",
    "    return mask"
   ]
  },
  {
   "cell_type": "code",
   "execution_count": 5,
   "metadata": {},
   "outputs": [],
   "source": [
    "def apply_mask(img, mask):\n",
    "    new_img = np.copy(img)\n",
    "    new_img[mask == 0] = 255 # 1\n",
    "    \n",
    "    return new_img"
   ]
  },
  {
   "cell_type": "code",
   "execution_count": 6,
   "metadata": {},
   "outputs": [],
   "source": [
    "def create_importance_weights(mask, w_size):\n",
    "    mask_2d = mask[:, :, 0]    \n",
    "    kernel = np.ones((w_size, w_size), dtype=np.float32)\n",
    "    kernel = kernel / np.sum(kernel)\n",
    "    \n",
    "    plt.imshow(convolve2d(1-mask_2d, kernel, mode='same'))\n",
    "    \n",
    "    importance_weights = mask_2d * convolve2d(1-mask_2d, kernel, mode='same', boundary='symm')\n",
    "    \n",
    "    return importance_weights"
   ]
  },
  {
   "cell_type": "code",
   "execution_count": 10,
   "metadata": {
    "scrolled": true
   },
   "outputs": [
    {
     "data": {
      "text/plain": [
       "<matplotlib.image.AxesImage at 0x1a2379c550>"
      ]
     },
     "execution_count": 10,
     "metadata": {},
     "output_type": "execute_result"
    },
    {
     "data": {
      "image/png": "[encoded data removed]",
      "text/plain": [
       "<Figure size 432x288 with 1 Axes>"
      ]
     },
     "metadata": {
      "needs_background": "light"
     },
     "output_type": "display_data"
    }
   ],
   "source": [
    "mask = random_rectangle(img)\n",
    "plt.imshow(mask)\n",
    "plt.imshow(apply_mask(img, mask))"
   ]
  },
  {
   "cell_type": "code",
   "execution_count": 53,
   "metadata": {},
   "outputs": [
    {
     "data": {
      "text/plain": [
       "(64, 64, 4)"
      ]
     },
     "execution_count": 53,
     "metadata": {},
     "output_type": "execute_result"
    }
   ],
   "source": [
    "img.shape"
   ]
  },
  {
   "cell_type": "code",
   "execution_count": 49,
   "metadata": {},
   "outputs": [
    {
     "data": {
      "text/plain": [
       "14648.0"
      ]
     },
     "execution_count": 49,
     "metadata": {},
     "output_type": "execute_result"
    }
   ],
   "source": [
    "np.sum(mask)"
   ]
  },
  {
   "cell_type": "code",
   "execution_count": 51,
   "metadata": {},
   "outputs": [
    {
     "data": {
      "text/plain": [
       "(64, 64, 4)"
      ]
     },
     "execution_count": 51,
     "metadata": {},
     "output_type": "execute_result"
    }
   ],
   "source": [
    "mask.shape"
   ]
  },
  {
   "cell_type": "code",
   "execution_count": 54,
   "metadata": {},
   "outputs": [
    {
     "data": {
      "text/plain": [
       "16384"
      ]
     },
     "execution_count": 54,
     "metadata": {},
     "output_type": "execute_result"
    }
   ],
   "source": [
    "64*64*4"
   ]
  },
  {
   "cell_type": "code",
   "execution_count": 11,
   "metadata": {},
   "outputs": [
    {
     "data": {
      "text/plain": [
       "<matplotlib.colorbar.Colorbar at 0x1a23becc10>"
      ]
     },
     "execution_count": 11,
     "metadata": {},
     "output_type": "execute_result"
    },
    {
     "data": {
      "image/png": "[encoded data removed]",
      "text/plain": [
       "<Figure size 432x288 with 2 Axes>"
      ]
     },
     "metadata": {
      "needs_background": "light"
     },
     "output_type": "display_data"
    }
   ],
   "source": [
    "w = create_importance_weights(mask, 7)\n",
    "plt.colorbar()"
   ]
  },
  {
   "cell_type": "code",
   "execution_count": 23,
   "metadata": {},
   "outputs": [
    {
     "data": {
      "text/plain": [
       "<matplotlib.colorbar.Colorbar at 0x1a23fd6d50>"
      ]
     },
     "execution_count": 23,
     "metadata": {},
     "output_type": "execute_result"
    },
    {
     "data": {
      "image/png": "[encoded data removed]",
      "text/plain": [
       "<Figure size 432x288 with 2 Axes>"
      ]
     },
     "metadata": {
      "needs_background": "light"
     },
     "output_type": "display_data"
    }
   ],
   "source": [
    "plt.imshow(w)\n",
    "plt.colorbar()"
   ]
  },
  {
   "cell_type": "code",
   "execution_count": 24,
   "metadata": {},
   "outputs": [
    {
     "data": {
      "text/plain": [
       "array([[0., 0., 0., ..., 0., 0., 0.],\n",
       "       [0., 0., 0., ..., 0., 0., 0.],\n",
       "       [0., 0., 0., ..., 0., 0., 0.],\n",
       "       ...,\n",
       "       [0., 0., 0., ..., 0., 0., 0.],\n",
       "       [0., 0., 0., ..., 0., 0., 0.],\n",
       "       [0., 0., 0., ..., 0., 0., 0.]])"
      ]
     },
     "execution_count": 24,
     "metadata": {},
     "output_type": "execute_result"
    }
   ],
   "source": [
    "w"
   ]
  },
  {
   "cell_type": "code",
   "execution_count": 13,
   "metadata": {},
   "outputs": [
    {
     "data": {
      "text/plain": [
       "(64, 64)"
      ]
     },
     "execution_count": 13,
     "metadata": {},
     "output_type": "execute_result"
    }
   ],
   "source": [
    "w.shape"
   ]
  },
  {
   "cell_type": "code",
   "execution_count": 103,
   "metadata": {},
   "outputs": [
    {
     "data": {
      "text/plain": [
       "array([[0.        , 0.        , 0.        , 0.        , 0.        ,\n",
       "        0.        , 0.        , 0.        , 0.        , 0.        ,\n",
       "        0.        , 0.        , 0.        , 0.        , 0.        ,\n",
       "        0.        , 0.        , 0.        , 0.        , 0.        ,\n",
       "        0.        , 0.        , 0.        , 0.        , 0.        ,\n",
       "        0.        , 0.        , 0.        , 0.        , 0.        ,\n",
       "        0.        , 0.        , 0.        , 0.        , 0.        ,\n",
       "        0.        , 0.        , 0.        , 0.        , 0.        ,\n",
       "        0.        , 0.        , 0.        , 0.        , 0.        ,\n",
       "        0.        , 0.        , 0.        , 0.        , 0.        ,\n",
       "        0.        , 0.        , 0.        , 0.        , 0.        ,\n",
       "        0.        , 0.        , 0.        , 0.        , 0.        ,\n",
       "        0.        , 0.        , 0.        , 0.        ],\n",
       "       [0.        , 0.        , 0.        , 0.        , 0.        ,\n",
       "        0.        , 0.        , 0.        , 0.        , 0.        ,\n",
       "        0.        , 0.        , 0.        , 0.        , 0.        ,\n",
       "        0.        , 0.        , 0.        , 0.        , 0.        ,\n",
       "        0.        , 0.        , 0.        , 0.        , 0.        ,\n",
       "        0.        , 0.        , 0.        , 0.        , 0.        ,\n",
       "        0.        , 0.        , 0.        , 0.        , 0.        ,\n",
       "        0.        , 0.        , 0.        , 0.        , 0.        ,\n",
       "        0.        , 0.        , 0.        , 0.        , 0.        ,\n",
       "        0.        , 0.        , 0.        , 0.        , 0.        ,\n",
       "        0.        , 0.        , 0.        , 0.        , 0.        ,\n",
       "        0.        , 0.        , 0.        , 0.        , 0.        ,\n",
       "        0.        , 0.        , 0.        , 0.        ],\n",
       "       [0.        , 0.        , 0.        , 0.        , 0.        ,\n",
       "        0.        , 0.        , 0.        , 0.        , 0.        ,\n",
       "        0.        , 0.        , 0.        , 0.        , 0.        ,\n",
       "        0.        , 0.        , 0.        , 0.        , 0.        ,\n",
       "        0.        , 0.        , 0.        , 0.        , 0.        ,\n",
       "        0.        , 0.        , 0.        , 0.        , 0.        ,\n",
       "        0.        , 0.        , 0.        , 0.        , 0.        ,\n",
       "        0.        , 0.        , 0.        , 0.        , 0.        ,\n",
       "        0.        , 0.        , 0.        , 0.        , 0.        ,\n",
       "        0.        , 0.        , 0.        , 0.        , 0.        ,\n",
       "        0.        , 0.        , 0.        , 0.        , 0.        ,\n",
       "        0.        , 0.        , 0.        , 0.        , 0.        ,\n",
       "        0.        , 0.        , 0.        , 0.        ],\n",
       "       [0.        , 0.        , 0.        , 0.        , 0.        ,\n",
       "        0.        , 0.        , 0.        , 0.        , 0.        ,\n",
       "        0.        , 0.        , 0.        , 0.        , 0.        ,\n",
       "        0.        , 0.        , 0.        , 0.        , 0.        ,\n",
       "        0.        , 0.        , 0.        , 0.        , 0.        ,\n",
       "        0.        , 0.        , 0.        , 0.        , 0.        ,\n",
       "        0.        , 0.        , 0.        , 0.        , 0.        ,\n",
       "        0.        , 0.        , 0.        , 0.        , 0.        ,\n",
       "        0.        , 0.        , 0.        , 0.        , 0.        ,\n",
       "        0.        , 0.        , 0.        , 0.        , 0.        ,\n",
       "        0.        , 0.        , 0.        , 0.        , 0.        ,\n",
       "        0.        , 0.        , 0.        , 0.        , 0.        ,\n",
       "        0.        , 0.        , 0.        , 0.        ],\n",
       "       [0.        , 0.        , 0.        , 0.        , 0.        ,\n",
       "        0.        , 0.        , 0.        , 0.        , 0.        ,\n",
       "        0.        , 0.        , 0.0025    , 0.005     , 0.0075    ,\n",
       "        0.01      , 0.0125    , 0.015     , 0.0175    , 0.02      ,\n",
       "        0.0225    , 0.025     , 0.0275    , 0.03      , 0.0325    ,\n",
       "        0.035     , 0.0375    , 0.04      , 0.0425    , 0.045     ,\n",
       "        0.045     , 0.045     , 0.0425    , 0.04      , 0.0375    ,\n",
       "        0.035     , 0.0325    , 0.03      , 0.0275    , 0.025     ,\n",
       "        0.0225    , 0.02      , 0.0175    , 0.015     , 0.0125    ,\n",
       "        0.01      , 0.0075    , 0.005     , 0.0025    , 0.        ,\n",
       "        0.        , 0.        , 0.        , 0.        , 0.        ,\n",
       "        0.        , 0.        , 0.        , 0.        , 0.        ,\n",
       "        0.        , 0.        , 0.        , 0.        ],\n",
       "       [0.        , 0.        , 0.        , 0.        , 0.        ,\n",
       "        0.        , 0.        , 0.        , 0.        , 0.        ,\n",
       "        0.        , 0.        , 0.005     , 0.01      , 0.015     ,\n",
       "        0.02      , 0.025     , 0.03      , 0.035     , 0.04      ,\n",
       "        0.045     , 0.05      , 0.055     , 0.06      , 0.065     ,\n",
       "        0.07      , 0.075     , 0.08      , 0.085     , 0.09      ,\n",
       "        0.09      , 0.09      , 0.085     , 0.08      , 0.075     ,\n",
       "        0.07      , 0.065     , 0.06      , 0.055     , 0.05      ,\n",
       "        0.045     , 0.04      , 0.035     , 0.03      , 0.025     ,\n",
       "        0.02      , 0.015     , 0.01      , 0.005     , 0.        ,\n",
       "        0.        , 0.        , 0.        , 0.        , 0.        ,\n",
       "        0.        , 0.        , 0.        , 0.        , 0.        ,\n",
       "        0.        , 0.        , 0.        , 0.        ],\n",
       "       [0.        , 0.        , 0.        , 0.        , 0.        ,\n",
       "        0.        , 0.        , 0.        , 0.        , 0.        ,\n",
       "        0.        , 0.        , 0.0075    , 0.015     , 0.0225    ,\n",
       "        0.03      , 0.0375    , 0.045     , 0.0525    , 0.06      ,\n",
       "        0.0675    , 0.075     , 0.0825    , 0.09      , 0.0975    ,\n",
       "        0.105     , 0.1125    , 0.12      , 0.1275    , 0.135     ,\n",
       "        0.135     , 0.135     , 0.1275    , 0.12      , 0.1125    ,\n",
       "        0.105     , 0.0975    , 0.09      , 0.0825    , 0.075     ,\n",
       "        0.0675    , 0.06      , 0.0525    , 0.045     , 0.0375    ,\n",
       "        0.03      , 0.0225    , 0.015     , 0.0075    , 0.        ,\n",
       "        0.        , 0.        , 0.        , 0.        , 0.        ,\n",
       "        0.        , 0.        , 0.        , 0.        , 0.        ,\n",
       "        0.        , 0.        , 0.        , 0.        ],\n",
       "       [0.        , 0.        , 0.        , 0.        , 0.        ,\n",
       "        0.        , 0.        , 0.        , 0.        , 0.        ,\n",
       "        0.        , 0.        , 0.01      , 0.02      , 0.03      ,\n",
       "        0.04      , 0.05      , 0.06      , 0.07      , 0.08      ,\n",
       "        0.09      , 0.1       , 0.11      , 0.12      , 0.13      ,\n",
       "        0.14      , 0.15      , 0.16      , 0.17      , 0.18      ,\n",
       "        0.18      , 0.18      , 0.17      , 0.16      , 0.15      ,\n",
       "        0.14      , 0.13      , 0.12      , 0.11      , 0.1       ,\n",
       "        0.09      , 0.08      , 0.07      , 0.06      , 0.05      ,\n",
       "        0.04      , 0.03      , 0.02      , 0.01      , 0.        ,\n",
       "        0.        , 0.        , 0.        , 0.        , 0.        ,\n",
       "        0.        , 0.        , 0.        , 0.        , 0.        ,\n",
       "        0.        , 0.        , 0.        , 0.        ],\n",
       "       [0.        , 0.        , 0.        , 0.        , 0.        ,\n",
       "        0.        , 0.        , 0.        , 0.        , 0.        ,\n",
       "        0.        , 0.        , 0.0125    , 0.025     , 0.0375    ,\n",
       "        0.05      , 0.0625    , 0.075     , 0.0875    , 0.1       ,\n",
       "        0.1125    , 0.125     , 0.1375    , 0.15      , 0.1625    ,\n",
       "        0.175     , 0.1875    , 0.2       , 0.2125    , 0.22499999,\n",
       "        0.22499999, 0.22499999, 0.2125    , 0.2       , 0.1875    ,\n",
       "        0.175     , 0.1625    , 0.15      , 0.1375    , 0.125     ,\n",
       "        0.1125    , 0.1       , 0.0875    , 0.075     , 0.0625    ,\n",
       "        0.05      , 0.0375    , 0.025     , 0.0125    , 0.        ,\n",
       "        0.        , 0.        , 0.        , 0.        , 0.        ,\n",
       "        0.        , 0.        , 0.        , 0.        , 0.        ,\n",
       "        0.        , 0.        , 0.        , 0.        ],\n",
       "       [0.        , 0.        , 0.        , 0.        , 0.        ,\n",
       "        0.        , 0.        , 0.        , 0.        , 0.        ,\n",
       "        0.        , 0.        , 0.015     , 0.03      , 0.045     ,\n",
       "        0.06      , 0.075     , 0.09      , 0.105     , 0.12      ,\n",
       "        0.135     , 0.15      , 0.165     , 0.18      , 0.195     ,\n",
       "        0.21      , 0.22499999, 0.23999999, 0.25499999, 0.26999999,\n",
       "        0.26999999, 0.26999999, 0.25499999, 0.23999999, 0.22499999,\n",
       "        0.21      , 0.195     , 0.18      , 0.165     , 0.15      ,\n",
       "        0.135     , 0.12      , 0.105     , 0.09      , 0.075     ,\n",
       "        0.06      , 0.045     , 0.03      , 0.015     , 0.        ,\n",
       "        0.        , 0.        , 0.        , 0.        , 0.        ,\n",
       "        0.        , 0.        , 0.        , 0.        , 0.        ,\n",
       "        0.        , 0.        , 0.        , 0.        ],\n",
       "       [0.        , 0.        , 0.        , 0.        , 0.        ,\n",
       "        0.        , 0.        , 0.        , 0.        , 0.        ,\n",
       "        0.        , 0.        , 0.0175    , 0.035     , 0.0525    ,\n",
       "        0.07      , 0.0875    , 0.105     , 0.1225    , 0.14      ,\n",
       "        0.1575    , 0.175     , 0.1925    , 0.21      , 0.22749999,\n",
       "        0.24499999, 0.26249999, 0.27999999, 0.29749999, 0.31499999,\n",
       "        0.31499999, 0.31499999, 0.29749999, 0.27999999, 0.26249999,\n",
       "        0.24499999, 0.22749999, 0.21      , 0.1925    , 0.175     ,\n",
       "        0.1575    , 0.14      , 0.1225    , 0.105     , 0.0875    ,\n",
       "        0.07      , 0.0525    , 0.035     , 0.0175    , 0.        ,\n",
       "        0.        , 0.        , 0.        , 0.        , 0.        ,\n",
       "        0.        , 0.        , 0.        , 0.        , 0.        ,\n",
       "        0.        , 0.        , 0.        , 0.        ],\n",
       "       [0.        , 0.        , 0.        , 0.        , 0.        ,\n",
       "        0.        , 0.        , 0.        , 0.        , 0.        ,\n",
       "        0.        , 0.        , 0.02      , 0.04      , 0.06      ,\n",
       "        0.08      , 0.1       , 0.12      , 0.14      , 0.16      ,\n",
       "        0.18      , 0.2       , 0.22      , 0.23999999, 0.25999999,\n",
       "        0.27999999, 0.29999999, 0.31999999, 0.33999999, 0.35999999,\n",
       "        0.35999999, 0.35999999, 0.33999999, 0.31999999, 0.29999999,\n",
       "        0.27999999, 0.25999999, 0.23999999, 0.22      , 0.2       ,\n",
       "        0.18      , 0.16      , 0.14      , 0.12      , 0.1       ,\n",
       "        0.08      , 0.06      , 0.04      , 0.02      , 0.        ,\n",
       "        0.        , 0.        , 0.        , 0.        , 0.        ,\n",
       "        0.        , 0.        , 0.        , 0.        , 0.        ,\n",
       "        0.        , 0.        , 0.        , 0.        ],\n",
       "       [0.        , 0.        , 0.        , 0.        , 0.        ,\n",
       "        0.        , 0.        , 0.        , 0.        , 0.        ,\n",
       "        0.        , 0.        , 0.0225    , 0.045     , 0.0675    ,\n",
       "        0.09      , 0.1125    , 0.135     , 0.1575    , 0.18      ,\n",
       "        0.2025    , 0.22499999, 0.24749999, 0.26999999, 0.29249999,\n",
       "        0.31499999, 0.33749999, 0.35999999, 0.38249999, 0.40499999,\n",
       "        0.40499999, 0.40499999, 0.38249999, 0.35999999, 0.33749999,\n",
       "        0.31499999, 0.29249999, 0.26999999, 0.24749999, 0.22499999,\n",
       "        0.2025    , 0.18      , 0.1575    , 0.135     , 0.1125    ,\n",
       "        0.09      , 0.0675    , 0.045     , 0.0225    , 0.        ,\n",
       "        0.        , 0.        , 0.        , 0.        , 0.        ,\n",
       "        0.        , 0.        , 0.        , 0.        , 0.        ,\n",
       "        0.        , 0.        , 0.        , 0.        ],\n",
       "       [0.        , 0.        , 0.        , 0.        , 0.        ,\n",
       "        0.        , 0.        , 0.        , 0.        , 0.        ,\n",
       "        0.        , 0.        , 0.025     , 0.05      , 0.075     ,\n",
       "        0.1       , 0.125     , 0.15      , 0.175     , 0.2       ,\n",
       "        0.22499999, 0.        , 0.        , 0.        , 0.        ,\n",
       "        0.        , 0.        , 0.        , 0.        , 0.        ,\n",
       "        0.        , 0.        , 0.        , 0.        , 0.        ,\n",
       "        0.        , 0.        , 0.        , 0.        , 0.24999999,\n",
       "        0.22499999, 0.2       , 0.175     , 0.15      , 0.125     ,\n",
       "        0.1       , 0.075     , 0.05      , 0.025     , 0.        ,\n",
       "        0.        , 0.        , 0.        , 0.        , 0.        ,\n",
       "        0.        , 0.        , 0.        , 0.        , 0.        ,\n",
       "        0.        , 0.        , 0.        , 0.        ],\n",
       "       [0.        , 0.        , 0.        , 0.        , 0.        ,\n",
       "        0.        , 0.        , 0.        , 0.        , 0.        ,\n",
       "        0.        , 0.        , 0.0275    , 0.055     , 0.0825    ,\n",
       "        0.11      , 0.1375    , 0.165     , 0.1925    , 0.22      ,\n",
       "        0.24749999, 0.        , 0.        , 0.        , 0.        ,\n",
       "        0.        , 0.        , 0.        , 0.        , 0.        ,\n",
       "        0.        , 0.        , 0.        , 0.        , 0.        ,\n",
       "        0.        , 0.        , 0.        , 0.        , 0.27499999,\n",
       "        0.24749999, 0.22      , 0.1925    , 0.165     , 0.1375    ,\n",
       "        0.11      , 0.0825    , 0.055     , 0.0275    , 0.        ,\n",
       "        0.        , 0.        , 0.        , 0.        , 0.        ,\n",
       "        0.        , 0.        , 0.        , 0.        , 0.        ,\n",
       "        0.        , 0.        , 0.        , 0.        ],\n",
       "       [0.        , 0.        , 0.        , 0.        , 0.        ,\n",
       "        0.        , 0.        , 0.        , 0.        , 0.        ,\n",
       "        0.        , 0.        , 0.03      , 0.06      , 0.09      ,\n",
       "        0.12      , 0.15      , 0.18      , 0.21      , 0.23999999,\n",
       "        0.26999999, 0.        , 0.        , 0.        , 0.        ,\n",
       "        0.        , 0.        , 0.        , 0.        , 0.        ,\n",
       "        0.        , 0.        , 0.        , 0.        , 0.        ,\n",
       "        0.        , 0.        , 0.        , 0.        , 0.29999999,\n",
       "        0.26999999, 0.23999999, 0.21      , 0.18      , 0.15      ,\n",
       "        0.12      , 0.09      , 0.06      , 0.03      , 0.        ,\n",
       "        0.        , 0.        , 0.        , 0.        , 0.        ,\n",
       "        0.        , 0.        , 0.        , 0.        , 0.        ,\n",
       "        0.        , 0.        , 0.        , 0.        ],\n",
       "       [0.        , 0.        , 0.        , 0.        , 0.        ,\n",
       "        0.        , 0.        , 0.        , 0.        , 0.        ,\n",
       "        0.        , 0.        , 0.0325    , 0.065     , 0.0975    ,\n",
       "        0.13      , 0.1625    , 0.195     , 0.22749999, 0.25999999,\n",
       "        0.29249999, 0.        , 0.        , 0.        , 0.        ,\n",
       "        0.        , 0.        , 0.        , 0.        , 0.        ,\n",
       "        0.        , 0.        , 0.        , 0.        , 0.        ,\n",
       "        0.        , 0.        , 0.        , 0.        , 0.32499999,\n",
       "        0.29249999, 0.25999999, 0.22749999, 0.195     , 0.1625    ,\n",
       "        0.13      , 0.0975    , 0.065     , 0.0325    , 0.        ,\n",
       "        0.        , 0.        , 0.        , 0.        , 0.        ,\n",
       "        0.        , 0.        , 0.        , 0.        , 0.        ,\n",
       "        0.        , 0.        , 0.        , 0.        ],\n",
       "       [0.        , 0.        , 0.        , 0.        , 0.        ,\n",
       "        0.        , 0.        , 0.        , 0.        , 0.        ,\n",
       "        0.        , 0.        , 0.035     , 0.07      , 0.105     ,\n",
       "        0.14      , 0.175     , 0.21      , 0.24499999, 0.27999999,\n",
       "        0.31499999, 0.        , 0.        , 0.        , 0.        ,\n",
       "        0.        , 0.        , 0.        , 0.        , 0.        ,\n",
       "        0.        , 0.        , 0.        , 0.        , 0.        ,\n",
       "        0.        , 0.        , 0.        , 0.        , 0.34999999,\n",
       "        0.31499999, 0.27999999, 0.24499999, 0.21      , 0.175     ,\n",
       "        0.14      , 0.105     , 0.07      , 0.035     , 0.        ,\n",
       "        0.        , 0.        , 0.        , 0.        , 0.        ,\n",
       "        0.        , 0.        , 0.        , 0.        , 0.        ,\n",
       "        0.        , 0.        , 0.        , 0.        ],\n",
       "       [0.        , 0.        , 0.        , 0.        , 0.        ,\n",
       "        0.        , 0.        , 0.        , 0.        , 0.        ,\n",
       "        0.        , 0.        , 0.0375    , 0.075     , 0.1125    ,\n",
       "        0.15      , 0.1875    , 0.22499999, 0.26249999, 0.29999999,\n",
       "        0.33749999, 0.        , 0.        , 0.        , 0.        ,\n",
       "        0.        , 0.        , 0.        , 0.        , 0.        ,\n",
       "        0.        , 0.        , 0.        , 0.        , 0.        ,\n",
       "        0.        , 0.        , 0.        , 0.        , 0.37499999,\n",
       "        0.33749999, 0.29999999, 0.26249999, 0.22499999, 0.1875    ,\n",
       "        0.15      , 0.1125    , 0.075     , 0.0375    , 0.        ,\n",
       "        0.        , 0.        , 0.        , 0.        , 0.        ,\n",
       "        0.        , 0.        , 0.        , 0.        , 0.        ,\n",
       "        0.        , 0.        , 0.        , 0.        ],\n",
       "       [0.        , 0.        , 0.        , 0.        , 0.        ,\n",
       "        0.        , 0.        , 0.        , 0.        , 0.        ,\n",
       "        0.        , 0.        , 0.04      , 0.08      , 0.12      ,\n",
       "        0.16      , 0.2       , 0.23999999, 0.27999999, 0.31999999,\n",
       "        0.35999999, 0.        , 0.        , 0.        , 0.        ,\n",
       "        0.        , 0.        , 0.        , 0.        , 0.        ,\n",
       "        0.        , 0.        , 0.        , 0.        , 0.        ,\n",
       "        0.        , 0.        , 0.        , 0.        , 0.39999999,\n",
       "        0.35999999, 0.31999999, 0.27999999, 0.23999999, 0.2       ,\n",
       "        0.16      , 0.12      , 0.08      , 0.04      , 0.        ,\n",
       "        0.        , 0.        , 0.        , 0.        , 0.        ,\n",
       "        0.        , 0.        , 0.        , 0.        , 0.        ,\n",
       "        0.        , 0.        , 0.        , 0.        ],\n",
       "       [0.        , 0.        , 0.        , 0.        , 0.        ,\n",
       "        0.        , 0.        , 0.        , 0.        , 0.        ,\n",
       "        0.        , 0.        , 0.0425    , 0.085     , 0.1275    ,\n",
       "        0.17      , 0.2125    , 0.25499999, 0.29749999, 0.33999999,\n",
       "        0.38249999, 0.        , 0.        , 0.        , 0.        ,\n",
       "        0.        , 0.        , 0.        , 0.        , 0.        ,\n",
       "        0.        , 0.        , 0.        , 0.        , 0.        ,\n",
       "        0.        , 0.        , 0.        , 0.        , 0.42499999,\n",
       "        0.38249999, 0.33999999, 0.29749999, 0.25499999, 0.2125    ,\n",
       "        0.17      , 0.1275    , 0.085     , 0.0425    , 0.        ,\n",
       "        0.        , 0.        , 0.        , 0.        , 0.        ,\n",
       "        0.        , 0.        , 0.        , 0.        , 0.        ,\n",
       "        0.        , 0.        , 0.        , 0.        ],\n",
       "       [0.        , 0.        , 0.        , 0.        , 0.        ,\n",
       "        0.        , 0.        , 0.        , 0.        , 0.        ,\n",
       "        0.        , 0.        , 0.045     , 0.09      , 0.135     ,\n",
       "        0.18      , 0.22499999, 0.26999999, 0.31499999, 0.35999999,\n",
       "        0.40499999, 0.        , 0.        , 0.        , 0.        ,\n",
       "        0.        , 0.        , 0.        , 0.        , 0.        ,\n",
       "        0.        , 0.        , 0.        , 0.        , 0.        ,\n",
       "        0.        , 0.        , 0.        , 0.        , 0.44999999,\n",
       "        0.40499999, 0.35999999, 0.31499999, 0.26999999, 0.22499999,\n",
       "        0.18      , 0.135     , 0.09      , 0.045     , 0.        ,\n",
       "        0.        , 0.        , 0.        , 0.        , 0.        ,\n",
       "        0.        , 0.        , 0.        , 0.        , 0.        ,\n",
       "        0.        , 0.        , 0.        , 0.        ],\n",
       "       [0.        , 0.        , 0.        , 0.        , 0.        ,\n",
       "        0.        , 0.        , 0.        , 0.        , 0.        ,\n",
       "        0.        , 0.        , 0.0475    , 0.095     , 0.1425    ,\n",
       "        0.19      , 0.23749999, 0.28499999, 0.33249999, 0.37999999,\n",
       "        0.42749999, 0.        , 0.        , 0.        , 0.        ,\n",
       "        0.        , 0.        , 0.        , 0.        , 0.        ,\n",
       "        0.        , 0.        , 0.        , 0.        , 0.        ,\n",
       "        0.        , 0.        , 0.        , 0.        , 0.47499999,\n",
       "        0.42749999, 0.37999999, 0.33249999, 0.28499999, 0.23749999,\n",
       "        0.19      , 0.1425    , 0.095     , 0.0475    , 0.        ,\n",
       "        0.        , 0.        , 0.        , 0.        , 0.        ,\n",
       "        0.        , 0.        , 0.        , 0.        , 0.        ,\n",
       "        0.        , 0.        , 0.        , 0.        ],\n",
       "       [0.        , 0.        , 0.        , 0.        , 0.        ,\n",
       "        0.        , 0.        , 0.        , 0.        , 0.        ,\n",
       "        0.        , 0.        , 0.05      , 0.1       , 0.15      ,\n",
       "        0.2       , 0.24999999, 0.29999999, 0.34999999, 0.39999999,\n",
       "        0.44999999, 0.        , 0.        , 0.        , 0.        ,\n",
       "        0.        , 0.        , 0.        , 0.        , 0.        ,\n",
       "        0.        , 0.        , 0.        , 0.        , 0.        ,\n",
       "        0.        , 0.        , 0.        , 0.        , 0.49999999,\n",
       "        0.44999999, 0.39999999, 0.34999999, 0.29999999, 0.24999999,\n",
       "        0.2       , 0.15      , 0.1       , 0.05      , 0.        ,\n",
       "        0.        , 0.        , 0.        , 0.        , 0.        ,\n",
       "        0.        , 0.        , 0.        , 0.        , 0.        ,\n",
       "        0.        , 0.        , 0.        , 0.        ],\n",
       "       [0.        , 0.        , 0.        , 0.        , 0.        ,\n",
       "        0.        , 0.        , 0.        , 0.        , 0.        ,\n",
       "        0.        , 0.        , 0.05      , 0.1       , 0.15      ,\n",
       "        0.2       , 0.24999999, 0.29999999, 0.34999999, 0.39999999,\n",
       "        0.44999999, 0.        , 0.        , 0.        , 0.        ,\n",
       "        0.        , 0.        , 0.        , 0.        , 0.        ,\n",
       "        0.        , 0.        , 0.        , 0.        , 0.        ,\n",
       "        0.        , 0.        , 0.        , 0.        , 0.49999999,\n",
       "        0.44999999, 0.39999999, 0.34999999, 0.29999999, 0.24999999,\n",
       "        0.2       , 0.15      , 0.1       , 0.05      , 0.        ,\n",
       "        0.        , 0.        , 0.        , 0.        , 0.        ,\n",
       "        0.        , 0.        , 0.        , 0.        , 0.        ,\n",
       "        0.        , 0.        , 0.        , 0.        ],\n",
       "       [0.        , 0.        , 0.        , 0.        , 0.        ,\n",
       "        0.        , 0.        , 0.        , 0.        , 0.        ,\n",
       "        0.        , 0.        , 0.05      , 0.1       , 0.15      ,\n",
       "        0.2       , 0.24999999, 0.29999999, 0.34999999, 0.39999999,\n",
       "        0.44999999, 0.        , 0.        , 0.        , 0.        ,\n",
       "        0.        , 0.        , 0.        , 0.        , 0.        ,\n",
       "        0.        , 0.        , 0.        , 0.        , 0.        ,\n",
       "        0.        , 0.        , 0.        , 0.        , 0.49999999,\n",
       "        0.44999999, 0.39999999, 0.34999999, 0.29999999, 0.24999999,\n",
       "        0.2       , 0.15      , 0.1       , 0.05      , 0.        ,\n",
       "        0.        , 0.        , 0.        , 0.        , 0.        ,\n",
       "        0.        , 0.        , 0.        , 0.        , 0.        ,\n",
       "        0.        , 0.        , 0.        , 0.        ],\n",
       "       [0.        , 0.        , 0.        , 0.        , 0.        ,\n",
       "        0.        , 0.        , 0.        , 0.        , 0.        ,\n",
       "        0.        , 0.        , 0.05      , 0.1       , 0.15      ,\n",
       "        0.2       , 0.24999999, 0.29999999, 0.34999999, 0.39999999,\n",
       "        0.44999999, 0.        , 0.        , 0.        , 0.        ,\n",
       "        0.        , 0.        , 0.        , 0.        , 0.        ,\n",
       "        0.        , 0.        , 0.        , 0.        , 0.        ,\n",
       "        0.        , 0.        , 0.        , 0.        , 0.49999999,\n",
       "        0.44999999, 0.39999999, 0.34999999, 0.29999999, 0.24999999,\n",
       "        0.2       , 0.15      , 0.1       , 0.05      , 0.        ,\n",
       "        0.        , 0.        , 0.        , 0.        , 0.        ,\n",
       "        0.        , 0.        , 0.        , 0.        , 0.        ,\n",
       "        0.        , 0.        , 0.        , 0.        ],\n",
       "       [0.        , 0.        , 0.        , 0.        , 0.        ,\n",
       "        0.        , 0.        , 0.        , 0.        , 0.        ,\n",
       "        0.        , 0.        , 0.05      , 0.1       , 0.15      ,\n",
       "        0.2       , 0.24999999, 0.29999999, 0.34999999, 0.39999999,\n",
       "        0.44999999, 0.        , 0.        , 0.        , 0.        ,\n",
       "        0.        , 0.        , 0.        , 0.        , 0.        ,\n",
       "        0.        , 0.        , 0.        , 0.        , 0.        ,\n",
       "        0.        , 0.        , 0.        , 0.        , 0.49999999,\n",
       "        0.44999999, 0.39999999, 0.34999999, 0.29999999, 0.24999999,\n",
       "        0.2       , 0.15      , 0.1       , 0.05      , 0.        ,\n",
       "        0.        , 0.        , 0.        , 0.        , 0.        ,\n",
       "        0.        , 0.        , 0.        , 0.        , 0.        ,\n",
       "        0.        , 0.        , 0.        , 0.        ],\n",
       "       [0.        , 0.        , 0.        , 0.        , 0.        ,\n",
       "        0.        , 0.        , 0.        , 0.        , 0.        ,\n",
       "        0.        , 0.        , 0.05      , 0.1       , 0.15      ,\n",
       "        0.2       , 0.24999999, 0.29999999, 0.34999999, 0.39999999,\n",
       "        0.44999999, 0.        , 0.        , 0.        , 0.        ,\n",
       "        0.        , 0.        , 0.        , 0.        , 0.        ,\n",
       "        0.        , 0.        , 0.        , 0.        , 0.        ,\n",
       "        0.        , 0.        , 0.        , 0.        , 0.49999999,\n",
       "        0.44999999, 0.39999999, 0.34999999, 0.29999999, 0.24999999,\n",
       "        0.2       , 0.15      , 0.1       , 0.05      , 0.        ,\n",
       "        0.        , 0.        , 0.        , 0.        , 0.        ,\n",
       "        0.        , 0.        , 0.        , 0.        , 0.        ,\n",
       "        0.        , 0.        , 0.        , 0.        ],\n",
       "       [0.        , 0.        , 0.        , 0.        , 0.        ,\n",
       "        0.        , 0.        , 0.        , 0.        , 0.        ,\n",
       "        0.        , 0.        , 0.05      , 0.1       , 0.15      ,\n",
       "        0.2       , 0.24999999, 0.29999999, 0.34999999, 0.39999999,\n",
       "        0.44999999, 0.        , 0.        , 0.        , 0.        ,\n",
       "        0.        , 0.        , 0.        , 0.        , 0.        ,\n",
       "        0.        , 0.        , 0.        , 0.        , 0.        ,\n",
       "        0.        , 0.        , 0.        , 0.        , 0.49999999,\n",
       "        0.44999999, 0.39999999, 0.34999999, 0.29999999, 0.24999999,\n",
       "        0.2       , 0.15      , 0.1       , 0.05      , 0.        ,\n",
       "        0.        , 0.        , 0.        , 0.        , 0.        ,\n",
       "        0.        , 0.        , 0.        , 0.        , 0.        ,\n",
       "        0.        , 0.        , 0.        , 0.        ],\n",
       "       [0.        , 0.        , 0.        , 0.        , 0.        ,\n",
       "        0.        , 0.        , 0.        , 0.        , 0.        ,\n",
       "        0.        , 0.        , 0.05      , 0.1       , 0.15      ,\n",
       "        0.2       , 0.24999999, 0.29999999, 0.34999999, 0.39999999,\n",
       "        0.44999999, 0.        , 0.        , 0.        , 0.        ,\n",
       "        0.        , 0.        , 0.        , 0.        , 0.        ,\n",
       "        0.        , 0.        , 0.        , 0.        , 0.        ,\n",
       "        0.        , 0.        , 0.        , 0.        , 0.49999999,\n",
       "        0.44999999, 0.39999999, 0.34999999, 0.29999999, 0.24999999,\n",
       "        0.2       , 0.15      , 0.1       , 0.05      , 0.        ,\n",
       "        0.        , 0.        , 0.        , 0.        , 0.        ,\n",
       "        0.        , 0.        , 0.        , 0.        , 0.        ,\n",
       "        0.        , 0.        , 0.        , 0.        ],\n",
       "       [0.        , 0.        , 0.        , 0.        , 0.        ,\n",
       "        0.        , 0.        , 0.        , 0.        , 0.        ,\n",
       "        0.        , 0.        , 0.05      , 0.1       , 0.15      ,\n",
       "        0.2       , 0.24999999, 0.29999999, 0.34999999, 0.39999999,\n",
       "        0.44999999, 0.        , 0.        , 0.        , 0.        ,\n",
       "        0.        , 0.        , 0.        , 0.        , 0.        ,\n",
       "        0.        , 0.        , 0.        , 0.        , 0.        ,\n",
       "        0.        , 0.        , 0.        , 0.        , 0.49999999,\n",
       "        0.44999999, 0.39999999, 0.34999999, 0.29999999, 0.24999999,\n",
       "        0.2       , 0.15      , 0.1       , 0.05      , 0.        ,\n",
       "        0.        , 0.        , 0.        , 0.        , 0.        ,\n",
       "        0.        , 0.        , 0.        , 0.        , 0.        ,\n",
       "        0.        , 0.        , 0.        , 0.        ],\n",
       "       [0.        , 0.        , 0.        , 0.        , 0.        ,\n",
       "        0.        , 0.        , 0.        , 0.        , 0.        ,\n",
       "        0.        , 0.        , 0.05      , 0.1       , 0.15      ,\n",
       "        0.2       , 0.24999999, 0.29999999, 0.34999999, 0.39999999,\n",
       "        0.44999999, 0.        , 0.        , 0.        , 0.        ,\n",
       "        0.        , 0.        , 0.        , 0.        , 0.        ,\n",
       "        0.        , 0.        , 0.        , 0.        , 0.        ,\n",
       "        0.        , 0.        , 0.        , 0.        , 0.49999999,\n",
       "        0.44999999, 0.39999999, 0.34999999, 0.29999999, 0.24999999,\n",
       "        0.2       , 0.15      , 0.1       , 0.05      , 0.        ,\n",
       "        0.        , 0.        , 0.        , 0.        , 0.        ,\n",
       "        0.        , 0.        , 0.        , 0.        , 0.        ,\n",
       "        0.        , 0.        , 0.        , 0.        ],\n",
       "       [0.        , 0.        , 0.        , 0.        , 0.        ,\n",
       "        0.        , 0.        , 0.        , 0.        , 0.        ,\n",
       "        0.        , 0.        , 0.05      , 0.1       , 0.15      ,\n",
       "        0.2       , 0.24999999, 0.29999999, 0.34999999, 0.39999999,\n",
       "        0.44999999, 0.        , 0.        , 0.        , 0.        ,\n",
       "        0.        , 0.        , 0.        , 0.        , 0.        ,\n",
       "        0.        , 0.        , 0.        , 0.        , 0.        ,\n",
       "        0.        , 0.        , 0.        , 0.        , 0.49999999,\n",
       "        0.44999999, 0.39999999, 0.34999999, 0.29999999, 0.24999999,\n",
       "        0.2       , 0.15      , 0.1       , 0.05      , 0.        ,\n",
       "        0.        , 0.        , 0.        , 0.        , 0.        ,\n",
       "        0.        , 0.        , 0.        , 0.        , 0.        ,\n",
       "        0.        , 0.        , 0.        , 0.        ],\n",
       "       [0.        , 0.        , 0.        , 0.        , 0.        ,\n",
       "        0.        , 0.        , 0.        , 0.        , 0.        ,\n",
       "        0.        , 0.        , 0.05      , 0.1       , 0.15      ,\n",
       "        0.2       , 0.24999999, 0.29999999, 0.34999999, 0.39999999,\n",
       "        0.44999999, 0.        , 0.        , 0.        , 0.        ,\n",
       "        0.        , 0.        , 0.        , 0.        , 0.        ,\n",
       "        0.        , 0.        , 0.        , 0.        , 0.        ,\n",
       "        0.        , 0.        , 0.        , 0.        , 0.49999999,\n",
       "        0.44999999, 0.39999999, 0.34999999, 0.29999999, 0.24999999,\n",
       "        0.2       , 0.15      , 0.1       , 0.05      , 0.        ,\n",
       "        0.        , 0.        , 0.        , 0.        , 0.        ,\n",
       "        0.        , 0.        , 0.        , 0.        , 0.        ,\n",
       "        0.        , 0.        , 0.        , 0.        ],\n",
       "       [0.        , 0.        , 0.        , 0.        , 0.        ,\n",
       "        0.        , 0.        , 0.        , 0.        , 0.        ,\n",
       "        0.        , 0.        , 0.0475    , 0.095     , 0.1425    ,\n",
       "        0.19      , 0.23749999, 0.28499999, 0.33249999, 0.37999999,\n",
       "        0.42749999, 0.        , 0.        , 0.        , 0.        ,\n",
       "        0.        , 0.        , 0.        , 0.        , 0.        ,\n",
       "        0.        , 0.        , 0.        , 0.        , 0.        ,\n",
       "        0.        , 0.        , 0.        , 0.        , 0.47499999,\n",
       "        0.42749999, 0.37999999, 0.33249999, 0.28499999, 0.23749999,\n",
       "        0.19      , 0.1425    , 0.095     , 0.0475    , 0.        ,\n",
       "        0.        , 0.        , 0.        , 0.        , 0.        ,\n",
       "        0.        , 0.        , 0.        , 0.        , 0.        ,\n",
       "        0.        , 0.        , 0.        , 0.        ],\n",
       "       [0.        , 0.        , 0.        , 0.        , 0.        ,\n",
       "        0.        , 0.        , 0.        , 0.        , 0.        ,\n",
       "        0.        , 0.        , 0.045     , 0.09      , 0.135     ,\n",
       "        0.18      , 0.22499999, 0.26999999, 0.31499999, 0.35999999,\n",
       "        0.40499999, 0.        , 0.        , 0.        , 0.        ,\n",
       "        0.        , 0.        , 0.        , 0.        , 0.        ,\n",
       "        0.        , 0.        , 0.        , 0.        , 0.        ,\n",
       "        0.        , 0.        , 0.        , 0.        , 0.44999999,\n",
       "        0.40499999, 0.35999999, 0.31499999, 0.26999999, 0.22499999,\n",
       "        0.18      , 0.135     , 0.09      , 0.045     , 0.        ,\n",
       "        0.        , 0.        , 0.        , 0.        , 0.        ,\n",
       "        0.        , 0.        , 0.        , 0.        , 0.        ,\n",
       "        0.        , 0.        , 0.        , 0.        ],\n",
       "       [0.        , 0.        , 0.        , 0.        , 0.        ,\n",
       "        0.        , 0.        , 0.        , 0.        , 0.        ,\n",
       "        0.        , 0.        , 0.0425    , 0.085     , 0.1275    ,\n",
       "        0.17      , 0.2125    , 0.25499999, 0.29749999, 0.33999999,\n",
       "        0.38249999, 0.        , 0.        , 0.        , 0.        ,\n",
       "        0.        , 0.        , 0.        , 0.        , 0.        ,\n",
       "        0.        , 0.        , 0.        , 0.        , 0.        ,\n",
       "        0.        , 0.        , 0.        , 0.        , 0.42499999,\n",
       "        0.38249999, 0.33999999, 0.29749999, 0.25499999, 0.2125    ,\n",
       "        0.17      , 0.1275    , 0.085     , 0.0425    , 0.        ,\n",
       "        0.        , 0.        , 0.        , 0.        , 0.        ,\n",
       "        0.        , 0.        , 0.        , 0.        , 0.        ,\n",
       "        0.        , 0.        , 0.        , 0.        ],\n",
       "       [0.        , 0.        , 0.        , 0.        , 0.        ,\n",
       "        0.        , 0.        , 0.        , 0.        , 0.        ,\n",
       "        0.        , 0.        , 0.04      , 0.08      , 0.12      ,\n",
       "        0.16      , 0.2       , 0.23999999, 0.27999999, 0.31999999,\n",
       "        0.35999999, 0.        , 0.        , 0.        , 0.        ,\n",
       "        0.        , 0.        , 0.        , 0.        , 0.        ,\n",
       "        0.        , 0.        , 0.        , 0.        , 0.        ,\n",
       "        0.        , 0.        , 0.        , 0.        , 0.39999999,\n",
       "        0.35999999, 0.31999999, 0.27999999, 0.23999999, 0.2       ,\n",
       "        0.16      , 0.12      , 0.08      , 0.04      , 0.        ,\n",
       "        0.        , 0.        , 0.        , 0.        , 0.        ,\n",
       "        0.        , 0.        , 0.        , 0.        , 0.        ,\n",
       "        0.        , 0.        , 0.        , 0.        ],\n",
       "       [0.        , 0.        , 0.        , 0.        , 0.        ,\n",
       "        0.        , 0.        , 0.        , 0.        , 0.        ,\n",
       "        0.        , 0.        , 0.0375    , 0.075     , 0.1125    ,\n",
       "        0.15      , 0.1875    , 0.22499999, 0.26249999, 0.29999999,\n",
       "        0.33749999, 0.        , 0.        , 0.        , 0.        ,\n",
       "        0.        , 0.        , 0.        , 0.        , 0.        ,\n",
       "        0.        , 0.        , 0.        , 0.        , 0.        ,\n",
       "        0.        , 0.        , 0.        , 0.        , 0.37499999,\n",
       "        0.33749999, 0.29999999, 0.26249999, 0.22499999, 0.1875    ,\n",
       "        0.15      , 0.1125    , 0.075     , 0.0375    , 0.        ,\n",
       "        0.        , 0.        , 0.        , 0.        , 0.        ,\n",
       "        0.        , 0.        , 0.        , 0.        , 0.        ,\n",
       "        0.        , 0.        , 0.        , 0.        ],\n",
       "       [0.        , 0.        , 0.        , 0.        , 0.        ,\n",
       "        0.        , 0.        , 0.        , 0.        , 0.        ,\n",
       "        0.        , 0.        , 0.035     , 0.07      , 0.105     ,\n",
       "        0.14      , 0.175     , 0.21      , 0.24499999, 0.27999999,\n",
       "        0.31499999, 0.        , 0.        , 0.        , 0.        ,\n",
       "        0.        , 0.        , 0.        , 0.        , 0.        ,\n",
       "        0.        , 0.        , 0.        , 0.        , 0.        ,\n",
       "        0.        , 0.        , 0.        , 0.        , 0.34999999,\n",
       "        0.31499999, 0.27999999, 0.24499999, 0.21      , 0.175     ,\n",
       "        0.14      , 0.105     , 0.07      , 0.035     , 0.        ,\n",
       "        0.        , 0.        , 0.        , 0.        , 0.        ,\n",
       "        0.        , 0.        , 0.        , 0.        , 0.        ,\n",
       "        0.        , 0.        , 0.        , 0.        ],\n",
       "       [0.        , 0.        , 0.        , 0.        , 0.        ,\n",
       "        0.        , 0.        , 0.        , 0.        , 0.        ,\n",
       "        0.        , 0.        , 0.0325    , 0.065     , 0.0975    ,\n",
       "        0.13      , 0.1625    , 0.195     , 0.22749999, 0.25999999,\n",
       "        0.29249999, 0.        , 0.        , 0.        , 0.        ,\n",
       "        0.        , 0.        , 0.        , 0.        , 0.        ,\n",
       "        0.        , 0.        , 0.        , 0.        , 0.        ,\n",
       "        0.        , 0.        , 0.        , 0.        , 0.32499999,\n",
       "        0.29249999, 0.25999999, 0.22749999, 0.195     , 0.1625    ,\n",
       "        0.13      , 0.0975    , 0.065     , 0.0325    , 0.        ,\n",
       "        0.        , 0.        , 0.        , 0.        , 0.        ,\n",
       "        0.        , 0.        , 0.        , 0.        , 0.        ,\n",
       "        0.        , 0.        , 0.        , 0.        ],\n",
       "       [0.        , 0.        , 0.        , 0.        , 0.        ,\n",
       "        0.        , 0.        , 0.        , 0.        , 0.        ,\n",
       "        0.        , 0.        , 0.03      , 0.06      , 0.09      ,\n",
       "        0.12      , 0.15      , 0.18      , 0.21      , 0.23999999,\n",
       "        0.26999999, 0.        , 0.        , 0.        , 0.        ,\n",
       "        0.        , 0.        , 0.        , 0.        , 0.        ,\n",
       "        0.        , 0.        , 0.        , 0.        , 0.        ,\n",
       "        0.        , 0.        , 0.        , 0.        , 0.29999999,\n",
       "        0.26999999, 0.23999999, 0.21      , 0.18      , 0.15      ,\n",
       "        0.12      , 0.09      , 0.06      , 0.03      , 0.        ,\n",
       "        0.        , 0.        , 0.        , 0.        , 0.        ,\n",
       "        0.        , 0.        , 0.        , 0.        , 0.        ,\n",
       "        0.        , 0.        , 0.        , 0.        ],\n",
       "       [0.        , 0.        , 0.        , 0.        , 0.        ,\n",
       "        0.        , 0.        , 0.        , 0.        , 0.        ,\n",
       "        0.        , 0.        , 0.0275    , 0.055     , 0.0825    ,\n",
       "        0.11      , 0.1375    , 0.165     , 0.1925    , 0.22      ,\n",
       "        0.24749999, 0.        , 0.        , 0.        , 0.        ,\n",
       "        0.        , 0.        , 0.        , 0.        , 0.        ,\n",
       "        0.        , 0.        , 0.        , 0.        , 0.        ,\n",
       "        0.        , 0.        , 0.        , 0.        , 0.27499999,\n",
       "        0.24749999, 0.22      , 0.1925    , 0.165     , 0.1375    ,\n",
       "        0.11      , 0.0825    , 0.055     , 0.0275    , 0.        ,\n",
       "        0.        , 0.        , 0.        , 0.        , 0.        ,\n",
       "        0.        , 0.        , 0.        , 0.        , 0.        ,\n",
       "        0.        , 0.        , 0.        , 0.        ],\n",
       "       [0.        , 0.        , 0.        , 0.        , 0.        ,\n",
       "        0.        , 0.        , 0.        , 0.        , 0.        ,\n",
       "        0.        , 0.        , 0.025     , 0.05      , 0.075     ,\n",
       "        0.1       , 0.125     , 0.15      , 0.175     , 0.2       ,\n",
       "        0.22499999, 0.24999999, 0.27499999, 0.29999999, 0.32499999,\n",
       "        0.34999999, 0.37499999, 0.39999999, 0.42499999, 0.44999999,\n",
       "        0.44999999, 0.44999999, 0.42499999, 0.39999999, 0.37499999,\n",
       "        0.34999999, 0.32499999, 0.29999999, 0.27499999, 0.24999999,\n",
       "        0.22499999, 0.2       , 0.175     , 0.15      , 0.125     ,\n",
       "        0.1       , 0.075     , 0.05      , 0.025     , 0.        ,\n",
       "        0.        , 0.        , 0.        , 0.        , 0.        ,\n",
       "        0.        , 0.        , 0.        , 0.        , 0.        ,\n",
       "        0.        , 0.        , 0.        , 0.        ],\n",
       "       [0.        , 0.        , 0.        , 0.        , 0.        ,\n",
       "        0.        , 0.        , 0.        , 0.        , 0.        ,\n",
       "        0.        , 0.        , 0.0225    , 0.045     , 0.0675    ,\n",
       "        0.09      , 0.1125    , 0.135     , 0.1575    , 0.18      ,\n",
       "        0.2025    , 0.22499999, 0.24749999, 0.26999999, 0.29249999,\n",
       "        0.31499999, 0.33749999, 0.35999999, 0.38249999, 0.40499999,\n",
       "        0.40499999, 0.40499999, 0.38249999, 0.35999999, 0.33749999,\n",
       "        0.31499999, 0.29249999, 0.26999999, 0.24749999, 0.22499999,\n",
       "        0.2025    , 0.18      , 0.1575    , 0.135     , 0.1125    ,\n",
       "        0.09      , 0.0675    , 0.045     , 0.0225    , 0.        ,\n",
       "        0.        , 0.        , 0.        , 0.        , 0.        ,\n",
       "        0.        , 0.        , 0.        , 0.        , 0.        ,\n",
       "        0.        , 0.        , 0.        , 0.        ],\n",
       "       [0.        , 0.        , 0.        , 0.        , 0.        ,\n",
       "        0.        , 0.        , 0.        , 0.        , 0.        ,\n",
       "        0.        , 0.        , 0.02      , 0.04      , 0.06      ,\n",
       "        0.08      , 0.1       , 0.12      , 0.14      , 0.16      ,\n",
       "        0.18      , 0.2       , 0.22      , 0.23999999, 0.25999999,\n",
       "        0.27999999, 0.29999999, 0.31999999, 0.33999999, 0.35999999,\n",
       "        0.35999999, 0.35999999, 0.33999999, 0.31999999, 0.29999999,\n",
       "        0.27999999, 0.25999999, 0.23999999, 0.22      , 0.2       ,\n",
       "        0.18      , 0.16      , 0.14      , 0.12      , 0.1       ,\n",
       "        0.08      , 0.06      , 0.04      , 0.02      , 0.        ,\n",
       "        0.        , 0.        , 0.        , 0.        , 0.        ,\n",
       "        0.        , 0.        , 0.        , 0.        , 0.        ,\n",
       "        0.        , 0.        , 0.        , 0.        ],\n",
       "       [0.        , 0.        , 0.        , 0.        , 0.        ,\n",
       "        0.        , 0.        , 0.        , 0.        , 0.        ,\n",
       "        0.        , 0.        , 0.0175    , 0.035     , 0.0525    ,\n",
       "        0.07      , 0.0875    , 0.105     , 0.1225    , 0.14      ,\n",
       "        0.1575    , 0.175     , 0.1925    , 0.21      , 0.22749999,\n",
       "        0.24499999, 0.26249999, 0.27999999, 0.29749999, 0.31499999,\n",
       "        0.31499999, 0.31499999, 0.29749999, 0.27999999, 0.26249999,\n",
       "        0.24499999, 0.22749999, 0.21      , 0.1925    , 0.175     ,\n",
       "        0.1575    , 0.14      , 0.1225    , 0.105     , 0.0875    ,\n",
       "        0.07      , 0.0525    , 0.035     , 0.0175    , 0.        ,\n",
       "        0.        , 0.        , 0.        , 0.        , 0.        ,\n",
       "        0.        , 0.        , 0.        , 0.        , 0.        ,\n",
       "        0.        , 0.        , 0.        , 0.        ],\n",
       "       [0.        , 0.        , 0.        , 0.        , 0.        ,\n",
       "        0.        , 0.        , 0.        , 0.        , 0.        ,\n",
       "        0.        , 0.        , 0.015     , 0.03      , 0.045     ,\n",
       "        0.06      , 0.075     , 0.09      , 0.105     , 0.12      ,\n",
       "        0.135     , 0.15      , 0.165     , 0.18      , 0.195     ,\n",
       "        0.21      , 0.22499999, 0.23999999, 0.25499999, 0.26999999,\n",
       "        0.26999999, 0.26999999, 0.25499999, 0.23999999, 0.22499999,\n",
       "        0.21      , 0.195     , 0.18      , 0.165     , 0.15      ,\n",
       "        0.135     , 0.12      , 0.105     , 0.09      , 0.075     ,\n",
       "        0.06      , 0.045     , 0.03      , 0.015     , 0.        ,\n",
       "        0.        , 0.        , 0.        , 0.        , 0.        ,\n",
       "        0.        , 0.        , 0.        , 0.        , 0.        ,\n",
       "        0.        , 0.        , 0.        , 0.        ],\n",
       "       [0.        , 0.        , 0.        , 0.        , 0.        ,\n",
       "        0.        , 0.        , 0.        , 0.        , 0.        ,\n",
       "        0.        , 0.        , 0.0125    , 0.025     , 0.0375    ,\n",
       "        0.05      , 0.0625    , 0.075     , 0.0875    , 0.1       ,\n",
       "        0.1125    , 0.125     , 0.1375    , 0.15      , 0.1625    ,\n",
       "        0.175     , 0.1875    , 0.2       , 0.2125    , 0.22499999,\n",
       "        0.22499999, 0.22499999, 0.2125    , 0.2       , 0.1875    ,\n",
       "        0.175     , 0.1625    , 0.15      , 0.1375    , 0.125     ,\n",
       "        0.1125    , 0.1       , 0.0875    , 0.075     , 0.0625    ,\n",
       "        0.05      , 0.0375    , 0.025     , 0.0125    , 0.        ,\n",
       "        0.        , 0.        , 0.        , 0.        , 0.        ,\n",
       "        0.        , 0.        , 0.        , 0.        , 0.        ,\n",
       "        0.        , 0.        , 0.        , 0.        ],\n",
       "       [0.        , 0.        , 0.        , 0.        , 0.        ,\n",
       "        0.        , 0.        , 0.        , 0.        , 0.        ,\n",
       "        0.        , 0.        , 0.01      , 0.02      , 0.03      ,\n",
       "        0.04      , 0.05      , 0.06      , 0.07      , 0.08      ,\n",
       "        0.09      , 0.1       , 0.11      , 0.12      , 0.13      ,\n",
       "        0.14      , 0.15      , 0.16      , 0.17      , 0.18      ,\n",
       "        0.18      , 0.18      , 0.17      , 0.16      , 0.15      ,\n",
       "        0.14      , 0.13      , 0.12      , 0.11      , 0.1       ,\n",
       "        0.09      , 0.08      , 0.07      , 0.06      , 0.05      ,\n",
       "        0.04      , 0.03      , 0.02      , 0.01      , 0.        ,\n",
       "        0.        , 0.        , 0.        , 0.        , 0.        ,\n",
       "        0.        , 0.        , 0.        , 0.        , 0.        ,\n",
       "        0.        , 0.        , 0.        , 0.        ],\n",
       "       [0.        , 0.        , 0.        , 0.        , 0.        ,\n",
       "        0.        , 0.        , 0.        , 0.        , 0.        ,\n",
       "        0.        , 0.        , 0.0075    , 0.015     , 0.0225    ,\n",
       "        0.03      , 0.0375    , 0.045     , 0.0525    , 0.06      ,\n",
       "        0.0675    , 0.075     , 0.0825    , 0.09      , 0.0975    ,\n",
       "        0.105     , 0.1125    , 0.12      , 0.1275    , 0.135     ,\n",
       "        0.135     , 0.135     , 0.1275    , 0.12      , 0.1125    ,\n",
       "        0.105     , 0.0975    , 0.09      , 0.0825    , 0.075     ,\n",
       "        0.0675    , 0.06      , 0.0525    , 0.045     , 0.0375    ,\n",
       "        0.03      , 0.0225    , 0.015     , 0.0075    , 0.        ,\n",
       "        0.        , 0.        , 0.        , 0.        , 0.        ,\n",
       "        0.        , 0.        , 0.        , 0.        , 0.        ,\n",
       "        0.        , 0.        , 0.        , 0.        ],\n",
       "       [0.        , 0.        , 0.        , 0.        , 0.        ,\n",
       "        0.        , 0.        , 0.        , 0.        , 0.        ,\n",
       "        0.        , 0.        , 0.005     , 0.01      , 0.015     ,\n",
       "        0.02      , 0.025     , 0.03      , 0.035     , 0.04      ,\n",
       "        0.045     , 0.05      , 0.055     , 0.06      , 0.065     ,\n",
       "        0.07      , 0.075     , 0.08      , 0.085     , 0.09      ,\n",
       "        0.09      , 0.09      , 0.085     , 0.08      , 0.075     ,\n",
       "        0.07      , 0.065     , 0.06      , 0.055     , 0.05      ,\n",
       "        0.045     , 0.04      , 0.035     , 0.03      , 0.025     ,\n",
       "        0.02      , 0.015     , 0.01      , 0.005     , 0.        ,\n",
       "        0.        , 0.        , 0.        , 0.        , 0.        ,\n",
       "        0.        , 0.        , 0.        , 0.        , 0.        ,\n",
       "        0.        , 0.        , 0.        , 0.        ],\n",
       "       [0.        , 0.        , 0.        , 0.        , 0.        ,\n",
       "        0.        , 0.        , 0.        , 0.        , 0.        ,\n",
       "        0.        , 0.        , 0.0025    , 0.005     , 0.0075    ,\n",
       "        0.01      , 0.0125    , 0.015     , 0.0175    , 0.02      ,\n",
       "        0.0225    , 0.025     , 0.0275    , 0.03      , 0.0325    ,\n",
       "        0.035     , 0.0375    , 0.04      , 0.0425    , 0.045     ,\n",
       "        0.045     , 0.045     , 0.0425    , 0.04      , 0.0375    ,\n",
       "        0.035     , 0.0325    , 0.03      , 0.0275    , 0.025     ,\n",
       "        0.0225    , 0.02      , 0.0175    , 0.015     , 0.0125    ,\n",
       "        0.01      , 0.0075    , 0.005     , 0.0025    , 0.        ,\n",
       "        0.        , 0.        , 0.        , 0.        , 0.        ,\n",
       "        0.        , 0.        , 0.        , 0.        , 0.        ,\n",
       "        0.        , 0.        , 0.        , 0.        ],\n",
       "       [0.        , 0.        , 0.        , 0.        , 0.        ,\n",
       "        0.        , 0.        , 0.        , 0.        , 0.        ,\n",
       "        0.        , 0.        , 0.        , 0.        , 0.        ,\n",
       "        0.        , 0.        , 0.        , 0.        , 0.        ,\n",
       "        0.        , 0.        , 0.        , 0.        , 0.        ,\n",
       "        0.        , 0.        , 0.        , 0.        , 0.        ,\n",
       "        0.        , 0.        , 0.        , 0.        , 0.        ,\n",
       "        0.        , 0.        , 0.        , 0.        , 0.        ,\n",
       "        0.        , 0.        , 0.        , 0.        , 0.        ,\n",
       "        0.        , 0.        , 0.        , 0.        , 0.        ,\n",
       "        0.        , 0.        , 0.        , 0.        , 0.        ,\n",
       "        0.        , 0.        , 0.        , 0.        , 0.        ,\n",
       "        0.        , 0.        , 0.        , 0.        ],\n",
       "       [0.        , 0.        , 0.        , 0.        , 0.        ,\n",
       "        0.        , 0.        , 0.        , 0.        , 0.        ,\n",
       "        0.        , 0.        , 0.        , 0.        , 0.        ,\n",
       "        0.        , 0.        , 0.        , 0.        , 0.        ,\n",
       "        0.        , 0.        , 0.        , 0.        , 0.        ,\n",
       "        0.        , 0.        , 0.        , 0.        , 0.        ,\n",
       "        0.        , 0.        , 0.        , 0.        , 0.        ,\n",
       "        0.        , 0.        , 0.        , 0.        , 0.        ,\n",
       "        0.        , 0.        , 0.        , 0.        , 0.        ,\n",
       "        0.        , 0.        , 0.        , 0.        , 0.        ,\n",
       "        0.        , 0.        , 0.        , 0.        , 0.        ,\n",
       "        0.        , 0.        , 0.        , 0.        , 0.        ,\n",
       "        0.        , 0.        , 0.        , 0.        ],\n",
       "       [0.        , 0.        , 0.        , 0.        , 0.        ,\n",
       "        0.        , 0.        , 0.        , 0.        , 0.        ,\n",
       "        0.        , 0.        , 0.        , 0.        , 0.        ,\n",
       "        0.        , 0.        , 0.        , 0.        , 0.        ,\n",
       "        0.        , 0.        , 0.        , 0.        , 0.        ,\n",
       "        0.        , 0.        , 0.        , 0.        , 0.        ,\n",
       "        0.        , 0.        , 0.        , 0.        , 0.        ,\n",
       "        0.        , 0.        , 0.        , 0.        , 0.        ,\n",
       "        0.        , 0.        , 0.        , 0.        , 0.        ,\n",
       "        0.        , 0.        , 0.        , 0.        , 0.        ,\n",
       "        0.        , 0.        , 0.        , 0.        , 0.        ,\n",
       "        0.        , 0.        , 0.        , 0.        , 0.        ,\n",
       "        0.        , 0.        , 0.        , 0.        ],\n",
       "       [0.        , 0.        , 0.        , 0.        , 0.        ,\n",
       "        0.        , 0.        , 0.        , 0.        , 0.        ,\n",
       "        0.        , 0.        , 0.        , 0.        , 0.        ,\n",
       "        0.        , 0.        , 0.        , 0.        , 0.        ,\n",
       "        0.        , 0.        , 0.        , 0.        , 0.        ,\n",
       "        0.        , 0.        , 0.        , 0.        , 0.        ,\n",
       "        0.        , 0.        , 0.        , 0.        , 0.        ,\n",
       "        0.        , 0.        , 0.        , 0.        , 0.        ,\n",
       "        0.        , 0.        , 0.        , 0.        , 0.        ,\n",
       "        0.        , 0.        , 0.        , 0.        , 0.        ,\n",
       "        0.        , 0.        , 0.        , 0.        , 0.        ,\n",
       "        0.        , 0.        , 0.        , 0.        , 0.        ,\n",
       "        0.        , 0.        , 0.        , 0.        ],\n",
       "       [0.        , 0.        , 0.        , 0.        , 0.        ,\n",
       "        0.        , 0.        , 0.        , 0.        , 0.        ,\n",
       "        0.        , 0.        , 0.        , 0.        , 0.        ,\n",
       "        0.        , 0.        , 0.        , 0.        , 0.        ,\n",
       "        0.        , 0.        , 0.        , 0.        , 0.        ,\n",
       "        0.        , 0.        , 0.        , 0.        , 0.        ,\n",
       "        0.        , 0.        , 0.        , 0.        , 0.        ,\n",
       "        0.        , 0.        , 0.        , 0.        , 0.        ,\n",
       "        0.        , 0.        , 0.        , 0.        , 0.        ,\n",
       "        0.        , 0.        , 0.        , 0.        , 0.        ,\n",
       "        0.        , 0.        , 0.        , 0.        , 0.        ,\n",
       "        0.        , 0.        , 0.        , 0.        , 0.        ,\n",
       "        0.        , 0.        , 0.        , 0.        ],\n",
       "       [0.        , 0.        , 0.        , 0.        , 0.        ,\n",
       "        0.        , 0.        , 0.        , 0.        , 0.        ,\n",
       "        0.        , 0.        , 0.        , 0.        , 0.        ,\n",
       "        0.        , 0.        , 0.        , 0.        , 0.        ,\n",
       "        0.        , 0.        , 0.        , 0.        , 0.        ,\n",
       "        0.        , 0.        , 0.        , 0.        , 0.        ,\n",
       "        0.        , 0.        , 0.        , 0.        , 0.        ,\n",
       "        0.        , 0.        , 0.        , 0.        , 0.        ,\n",
       "        0.        , 0.        , 0.        , 0.        , 0.        ,\n",
       "        0.        , 0.        , 0.        , 0.        , 0.        ,\n",
       "        0.        , 0.        , 0.        , 0.        , 0.        ,\n",
       "        0.        , 0.        , 0.        , 0.        , 0.        ,\n",
       "        0.        , 0.        , 0.        , 0.        ],\n",
       "       [0.        , 0.        , 0.        , 0.        , 0.        ,\n",
       "        0.        , 0.        , 0.        , 0.        , 0.        ,\n",
       "        0.        , 0.        , 0.        , 0.        , 0.        ,\n",
       "        0.        , 0.        , 0.        , 0.        , 0.        ,\n",
       "        0.        , 0.        , 0.        , 0.        , 0.        ,\n",
       "        0.        , 0.        , 0.        , 0.        , 0.        ,\n",
       "        0.        , 0.        , 0.        , 0.        , 0.        ,\n",
       "        0.        , 0.        , 0.        , 0.        , 0.        ,\n",
       "        0.        , 0.        , 0.        , 0.        , 0.        ,\n",
       "        0.        , 0.        , 0.        , 0.        , 0.        ,\n",
       "        0.        , 0.        , 0.        , 0.        , 0.        ,\n",
       "        0.        , 0.        , 0.        , 0.        , 0.        ,\n",
       "        0.        , 0.        , 0.        , 0.        ],\n",
       "       [0.        , 0.        , 0.        , 0.        , 0.        ,\n",
       "        0.        , 0.        , 0.        , 0.        , 0.        ,\n",
       "        0.        , 0.        , 0.        , 0.        , 0.        ,\n",
       "        0.        , 0.        , 0.        , 0.        , 0.        ,\n",
       "        0.        , 0.        , 0.        , 0.        , 0.        ,\n",
       "        0.        , 0.        , 0.        , 0.        , 0.        ,\n",
       "        0.        , 0.        , 0.        , 0.        , 0.        ,\n",
       "        0.        , 0.        , 0.        , 0.        , 0.        ,\n",
       "        0.        , 0.        , 0.        , 0.        , 0.        ,\n",
       "        0.        , 0.        , 0.        , 0.        , 0.        ,\n",
       "        0.        , 0.        , 0.        , 0.        , 0.        ,\n",
       "        0.        , 0.        , 0.        , 0.        , 0.        ,\n",
       "        0.        , 0.        , 0.        , 0.        ],\n",
       "       [0.        , 0.        , 0.        , 0.        , 0.        ,\n",
       "        0.        , 0.        , 0.        , 0.        , 0.        ,\n",
       "        0.        , 0.        , 0.        , 0.        , 0.        ,\n",
       "        0.        , 0.        , 0.        , 0.        , 0.        ,\n",
       "        0.        , 0.        , 0.        , 0.        , 0.        ,\n",
       "        0.        , 0.        , 0.        , 0.        , 0.        ,\n",
       "        0.        , 0.        , 0.        , 0.        , 0.        ,\n",
       "        0.        , 0.        , 0.        , 0.        , 0.        ,\n",
       "        0.        , 0.        , 0.        , 0.        , 0.        ,\n",
       "        0.        , 0.        , 0.        , 0.        , 0.        ,\n",
       "        0.        , 0.        , 0.        , 0.        , 0.        ,\n",
       "        0.        , 0.        , 0.        , 0.        , 0.        ,\n",
       "        0.        , 0.        , 0.        , 0.        ],\n",
       "       [0.        , 0.        , 0.        , 0.        , 0.        ,\n",
       "        0.        , 0.        , 0.        , 0.        , 0.        ,\n",
       "        0.        , 0.        , 0.        , 0.        , 0.        ,\n",
       "        0.        , 0.        , 0.        , 0.        , 0.        ,\n",
       "        0.        , 0.        , 0.        , 0.        , 0.        ,\n",
       "        0.        , 0.        , 0.        , 0.        , 0.        ,\n",
       "        0.        , 0.        , 0.        , 0.        , 0.        ,\n",
       "        0.        , 0.        , 0.        , 0.        , 0.        ,\n",
       "        0.        , 0.        , 0.        , 0.        , 0.        ,\n",
       "        0.        , 0.        , 0.        , 0.        , 0.        ,\n",
       "        0.        , 0.        , 0.        , 0.        , 0.        ,\n",
       "        0.        , 0.        , 0.        , 0.        , 0.        ,\n",
       "        0.        , 0.        , 0.        , 0.        ]])"
      ]
     },
     "execution_count": 103,
     "metadata": {},
     "output_type": "execute_result"
    }
   ],
   "source": [
    "import sys\n",
    "import numpy\n",
    "numpy.set_printoptions(threshold=sys.maxsize)\n",
    "w"
   ]
  },
  {
   "cell_type": "code",
   "execution_count": 25,
   "metadata": {},
   "outputs": [
    {
     "data": {
      "text/plain": [
       "<module 'inpaint_model' from '/Users/darko/Documents/Projects/image-inpainting/src/inpaint_model.py'>"
      ]
     },
     "execution_count": 25,
     "metadata": {},
     "output_type": "execute_result"
    }
   ],
   "source": [
    "from inpaint_model import InpaintModel\n",
    "import inpaint_model\n",
    "from imp import reload \n",
    "reload(inpaint_model)\n",
    "# im = InpaintModel(None)"
   ]
  },
  {
   "cell_type": "code",
   "execution_count": null,
   "metadata": {},
   "outputs": [],
   "source": []
  },
  {
   "cell_type": "code",
   "execution_count": 56,
   "metadata": {},
   "outputs": [],
   "source": [
    "%load_ext autoreload\n",
    "%autoreload 2"
   ]
  },
  {
   "cell_type": "code",
   "execution_count": 62,
   "metadata": {},
   "outputs": [],
   "source": [
    "from models.DCGAN_trainer import DCGANTrainer"
   ]
  },
  {
   "cell_type": "code",
   "execution_count": 68,
   "metadata": {},
   "outputs": [],
   "source": [
    "trainer = DCGANTrainer('../data')"
   ]
  },
  {
   "cell_type": "code",
   "execution_count": 69,
   "metadata": {
    "scrolled": false
   },
   "outputs": [
    {
     "name": "stdout",
     "output_type": "stream",
     "text": [
      "Starting Training Loop...\n",
      "[0/100][0/12663]\tLoss_D: 1.8602\tLoss_G: 8.0618\tD(x): 0.7968\tD(G(z)): 0.7413 / 0.0005\n",
      "[0/100][1/12663]\tLoss_D: 0.4308\tLoss_G: 5.7935\tD(x): 0.7928\tD(G(z)): 0.1384 / 0.0035\n",
      "[0/100][2/12663]\tLoss_D: 0.5405\tLoss_G: 6.2597\tD(x): 0.8768\tD(G(z)): 0.2700 / 0.0030\n",
      "[0/100][3/12663]\tLoss_D: 0.2743\tLoss_G: 6.1907\tD(x): 0.9364\tD(G(z)): 0.1699 / 0.0023\n",
      "[0/100][4/12663]\tLoss_D: 0.2344\tLoss_G: 6.8957\tD(x): 0.9852\tD(G(z)): 0.1760 / 0.0013\n",
      "[0/100][5/12663]\tLoss_D: 0.2801\tLoss_G: 5.7946\tD(x): 0.8632\tD(G(z)): 0.0951 / 0.0033\n",
      "[0/100][6/12663]\tLoss_D: 0.3566\tLoss_G: 7.5868\tD(x): 0.9481\tD(G(z)): 0.2134 / 0.0007\n",
      "[0/100][7/12663]\tLoss_D: 0.1675\tLoss_G: 6.4774\tD(x): 0.9069\tD(G(z)): 0.0484 / 0.0020\n"
     ]
    },
    {
     "ename": "KeyboardInterrupt",
     "evalue": "",
     "output_type": "error",
     "traceback": [
      "\u001b[0;31m---------------------------------------------------------------------------\u001b[0m",
      "\u001b[0;31mKeyboardInterrupt\u001b[0m                         Traceback (most recent call last)",
      "\u001b[0;32m<ipython-input-69-3435b262f1ae>\u001b[0m in \u001b[0;36m<module>\u001b[0;34m\u001b[0m\n\u001b[0;32m----> 1\u001b[0;31m \u001b[0mtrainer\u001b[0m\u001b[0;34m.\u001b[0m\u001b[0mtrain\u001b[0m\u001b[0;34m(\u001b[0m\u001b[0;34m)\u001b[0m\u001b[0;34m\u001b[0m\u001b[0;34m\u001b[0m\u001b[0m\n\u001b[0m",
      "\u001b[0;32m~/Documents/Projects/image-inpainting/src/models/DCGAN_trainer.py\u001b[0m in \u001b[0;36mtrain\u001b[0;34m(self)\u001b[0m\n\u001b[1;32m     94\u001b[0m                 \u001b[0merrG\u001b[0m \u001b[0;34m=\u001b[0m \u001b[0mcriterion\u001b[0m\u001b[0;34m(\u001b[0m\u001b[0moutput\u001b[0m\u001b[0;34m,\u001b[0m \u001b[0mlabel\u001b[0m\u001b[0;34m)\u001b[0m\u001b[0;34m\u001b[0m\u001b[0;34m\u001b[0m\u001b[0m\n\u001b[1;32m     95\u001b[0m                 \u001b[0;31m# Calculate gradients for G\u001b[0m\u001b[0;34m\u001b[0m\u001b[0;34m\u001b[0m\u001b[0;34m\u001b[0m\u001b[0m\n\u001b[0;32m---> 96\u001b[0;31m                 \u001b[0merrG\u001b[0m\u001b[0;34m.\u001b[0m\u001b[0mbackward\u001b[0m\u001b[0;34m(\u001b[0m\u001b[0;34m)\u001b[0m\u001b[0;34m\u001b[0m\u001b[0;34m\u001b[0m\u001b[0m\n\u001b[0m\u001b[1;32m     97\u001b[0m                 \u001b[0mD_G_z2\u001b[0m \u001b[0;34m=\u001b[0m \u001b[0moutput\u001b[0m\u001b[0;34m.\u001b[0m\u001b[0mmean\u001b[0m\u001b[0;34m(\u001b[0m\u001b[0;34m)\u001b[0m\u001b[0;34m.\u001b[0m\u001b[0mitem\u001b[0m\u001b[0;34m(\u001b[0m\u001b[0;34m)\u001b[0m\u001b[0;34m\u001b[0m\u001b[0;34m\u001b[0m\u001b[0m\n\u001b[1;32m     98\u001b[0m                 \u001b[0;31m# Update G\u001b[0m\u001b[0;34m\u001b[0m\u001b[0;34m\u001b[0m\u001b[0;34m\u001b[0m\u001b[0m\n",
      "\u001b[0;32m~/anaconda3/envs/iis-project/lib/python3.7/site-packages/torch/tensor.py\u001b[0m in \u001b[0;36mbackward\u001b[0;34m(self, gradient, retain_graph, create_graph)\u001b[0m\n\u001b[1;32m    193\u001b[0m                 \u001b[0mproducts\u001b[0m\u001b[0;34m.\u001b[0m \u001b[0mDefaults\u001b[0m \u001b[0mto\u001b[0m\u001b[0;31m \u001b[0m\u001b[0;31m`\u001b[0m\u001b[0;31m`\u001b[0m\u001b[0;32mFalse\u001b[0m\u001b[0;31m`\u001b[0m\u001b[0;31m`\u001b[0m\u001b[0;34m.\u001b[0m\u001b[0;34m\u001b[0m\u001b[0;34m\u001b[0m\u001b[0m\n\u001b[1;32m    194\u001b[0m         \"\"\"\n\u001b[0;32m--> 195\u001b[0;31m         \u001b[0mtorch\u001b[0m\u001b[0;34m.\u001b[0m\u001b[0mautograd\u001b[0m\u001b[0;34m.\u001b[0m\u001b[0mbackward\u001b[0m\u001b[0;34m(\u001b[0m\u001b[0mself\u001b[0m\u001b[0;34m,\u001b[0m \u001b[0mgradient\u001b[0m\u001b[0;34m,\u001b[0m \u001b[0mretain_graph\u001b[0m\u001b[0;34m,\u001b[0m \u001b[0mcreate_graph\u001b[0m\u001b[0;34m)\u001b[0m\u001b[0;34m\u001b[0m\u001b[0;34m\u001b[0m\u001b[0m\n\u001b[0m\u001b[1;32m    196\u001b[0m \u001b[0;34m\u001b[0m\u001b[0m\n\u001b[1;32m    197\u001b[0m     \u001b[0;32mdef\u001b[0m \u001b[0mregister_hook\u001b[0m\u001b[0;34m(\u001b[0m\u001b[0mself\u001b[0m\u001b[0;34m,\u001b[0m \u001b[0mhook\u001b[0m\u001b[0;34m)\u001b[0m\u001b[0;34m:\u001b[0m\u001b[0;34m\u001b[0m\u001b[0;34m\u001b[0m\u001b[0m\n",
      "\u001b[0;32m~/anaconda3/envs/iis-project/lib/python3.7/site-packages/torch/autograd/__init__.py\u001b[0m in \u001b[0;36mbackward\u001b[0;34m(tensors, grad_tensors, retain_graph, create_graph, grad_variables)\u001b[0m\n\u001b[1;32m     97\u001b[0m     Variable._execution_engine.run_backward(\n\u001b[1;32m     98\u001b[0m         \u001b[0mtensors\u001b[0m\u001b[0;34m,\u001b[0m \u001b[0mgrad_tensors\u001b[0m\u001b[0;34m,\u001b[0m \u001b[0mretain_graph\u001b[0m\u001b[0;34m,\u001b[0m \u001b[0mcreate_graph\u001b[0m\u001b[0;34m,\u001b[0m\u001b[0;34m\u001b[0m\u001b[0;34m\u001b[0m\u001b[0m\n\u001b[0;32m---> 99\u001b[0;31m         allow_unreachable=True)  # allow_unreachable flag\n\u001b[0m\u001b[1;32m    100\u001b[0m \u001b[0;34m\u001b[0m\u001b[0m\n\u001b[1;32m    101\u001b[0m \u001b[0;34m\u001b[0m\u001b[0m\n",
      "\u001b[0;31mKeyboardInterrupt\u001b[0m: "
     ]
    }
   ],
   "source": [
    "trainer.train()"
   ]
  },
  {
   "cell_type": "markdown",
   "metadata": {},
   "source": [
    "### Dataset info.\n",
    "\n",
    "<hr>"
   ]
  },
  {
   "cell_type": "code",
   "execution_count": 30,
   "metadata": {},
   "outputs": [],
   "source": [
    "from datasets.celeba_dataset import get_image_dataset\n",
    "from models.DCGAN_config import _C\n",
    "\n",
    "from torchvision import datasets\n",
    "from torchvision import transforms\n",
    "\n",
    "import torch"
   ]
  },
  {
   "cell_type": "code",
   "execution_count": 22,
   "metadata": {},
   "outputs": [],
   "source": [
    "transform = transforms.Compose([\n",
    "        transforms.Resize(_C.imageSize),\n",
    "        transforms.CenterCrop(_C.imageSize),\n",
    "        transforms.ToTensor(),\n",
    "        transforms.Normalize((0.5, 0.5, 0.5), (0.5, 0.5, 0.5))\n",
    "    ])"
   ]
  },
  {
   "cell_type": "code",
   "execution_count": 26,
   "metadata": {},
   "outputs": [],
   "source": [
    "dataset = datasets.ImageFolder(root='../data', transform=transform)"
   ]
  },
  {
   "cell_type": "code",
   "execution_count": 34,
   "metadata": {},
   "outputs": [],
   "source": [
    "dataloader = torch.utils.data.DataLoader(dataset,\n",
    "                                        batch_size=_C.miniBatchSize,\n",
    "                                        shuffle=True, num_workers=2)"
   ]
  },
  {
   "cell_type": "code",
   "execution_count": 43,
   "metadata": {},
   "outputs": [
    {
     "name": "stdout",
     "output_type": "stream",
     "text": [
      "Batch: 0\n",
      "Batch: 1\n",
      "Batch: 2\n",
      "Batch: 3\n",
      "Batch: 4\n",
      "Batch: 5\n",
      "CPU times: user 42.5 ms, sys: 33.1 ms, total: 75.6 ms\n",
      "Wall time: 1min 3s\n"
     ]
    }
   ],
   "source": [
    "%%time\n",
    "for i, data in enumerate(dataloader, 0):\n",
    "    print('Batch:', i)\n",
    "    \n",
    "    if i == 5:\n",
    "        break"
   ]
  },
  {
   "cell_type": "code",
   "execution_count": 45,
   "metadata": {},
   "outputs": [
    {
     "name": "stdout",
     "output_type": "stream",
     "text": [
      "[tensor([[[[ 0.7882,  0.8039,  0.8118,  ...,  0.4118,  0.4902,  0.9529],\n",
      "          [ 0.7804,  0.7961,  0.8039,  ...,  0.3961,  0.4196,  0.9216],\n",
      "          [ 0.7804,  0.8039,  0.8039,  ...,  0.3725,  0.3647,  0.8588],\n",
      "          ...,\n",
      "          [ 0.8902,  0.9765,  0.9765,  ..., -0.2784, -0.2784, -0.2784],\n",
      "          [ 0.9451,  0.9765,  0.9843,  ..., -0.2784, -0.2784, -0.2863],\n",
      "          [ 0.9529,  0.9608,  0.9686,  ..., -0.2784, -0.2784, -0.2863]],\n",
      "\n",
      "         [[ 0.7333,  0.7647,  0.7961,  ...,  0.2863,  0.4039,  0.9294],\n",
      "          [ 0.7255,  0.7569,  0.7961,  ...,  0.2392,  0.2863,  0.8745],\n",
      "          [ 0.7255,  0.7569,  0.7961,  ...,  0.1765,  0.1765,  0.7961],\n",
      "          ...,\n",
      "          [ 0.8667,  0.9608,  0.9608,  ..., -0.6706, -0.6706, -0.6627],\n",
      "          [ 0.9608,  0.9922,  0.9686,  ..., -0.6706, -0.6706, -0.6706],\n",
      "          [ 0.9843,  0.9922,  0.9686,  ..., -0.6706, -0.6706, -0.6706]],\n",
      "\n",
      "         [[ 0.6549,  0.6784,  0.7020,  ...,  0.1843,  0.3255,  0.9059],\n",
      "          [ 0.6471,  0.6706,  0.7020,  ...,  0.1373,  0.2157,  0.8510],\n",
      "          [ 0.6471,  0.6784,  0.7020,  ...,  0.0745,  0.1137,  0.7804],\n",
      "          ...,\n",
      "          [ 0.5294,  0.6784,  0.7333,  ..., -0.7255, -0.7255, -0.7176],\n",
      "          [ 0.6706,  0.7255,  0.7176,  ..., -0.7255, -0.7255, -0.7255],\n",
      "          [ 0.7176,  0.7412,  0.7255,  ..., -0.7255, -0.7255, -0.7255]]],\n",
      "\n",
      "\n",
      "        [[[ 0.8510,  0.8353,  0.8745,  ...,  0.8667,  0.9294,  0.9529],\n",
      "          [ 0.8588,  0.8353,  0.8667,  ...,  0.8745,  0.9294,  0.9529],\n",
      "          [ 0.8510,  0.8353,  0.8745,  ...,  0.8824,  0.9294,  0.9608],\n",
      "          ...,\n",
      "          [ 0.8275,  0.8039,  0.7804,  ...,  0.8275,  0.8196,  0.8353],\n",
      "          [ 0.8353,  0.8118,  0.7882,  ...,  0.8196,  0.8039,  0.8039],\n",
      "          [ 0.8353,  0.8118,  0.7882,  ...,  0.7804,  0.7255,  0.7098]],\n",
      "\n",
      "         [[ 0.8510,  0.8353,  0.8824,  ...,  0.8510,  0.9137,  0.9294],\n",
      "          [ 0.8510,  0.8353,  0.8745,  ...,  0.8588,  0.9137,  0.9294],\n",
      "          [ 0.8510,  0.8353,  0.8824,  ...,  0.8667,  0.9059,  0.9373],\n",
      "          ...,\n",
      "          [ 0.8431,  0.8196,  0.7961,  ...,  0.8510,  0.8510,  0.8588],\n",
      "          [ 0.8510,  0.8275,  0.8039,  ...,  0.8510,  0.8510,  0.8353],\n",
      "          [ 0.8510,  0.8275,  0.8039,  ...,  0.8118,  0.7804,  0.7647]],\n",
      "\n",
      "         [[ 0.9451,  0.9059,  0.9216,  ...,  0.8902,  0.9529,  0.9451],\n",
      "          [ 0.9529,  0.8980,  0.9137,  ...,  0.8980,  0.9529,  0.9451],\n",
      "          [ 0.9529,  0.9059,  0.9137,  ...,  0.9059,  0.9451,  0.9529],\n",
      "          ...,\n",
      "          [ 0.9373,  0.9137,  0.8902,  ...,  0.9216,  0.9294,  0.9451],\n",
      "          [ 0.9451,  0.9216,  0.8980,  ...,  0.9294,  0.9294,  0.9294],\n",
      "          [ 0.9451,  0.9216,  0.8980,  ...,  0.8902,  0.8588,  0.8510]]],\n",
      "\n",
      "\n",
      "        [[[-0.7255, -0.7255, -0.7333,  ..., -0.9922, -0.9922, -0.9529],\n",
      "          [-0.3961, -0.4118, -0.4431,  ..., -0.9922, -0.9922, -0.9451],\n",
      "          [-0.0902, -0.0980, -0.1294,  ..., -0.9922, -0.9922, -0.9216],\n",
      "          ...,\n",
      "          [ 0.1451,  0.1529,  0.1451,  ..., -0.8667, -0.8667, -0.8667],\n",
      "          [ 0.1922,  0.2000,  0.2000,  ..., -0.8667, -0.8667, -0.8588],\n",
      "          [ 0.2235,  0.2235,  0.2157,  ..., -0.8667, -0.8667, -0.8588]],\n",
      "\n",
      "         [[-0.7412, -0.7412, -0.7490,  ..., -0.9922, -0.9922, -0.9529],\n",
      "          [-0.4353, -0.4588, -0.4902,  ..., -0.9922, -0.9922, -0.9451],\n",
      "          [-0.1451, -0.1529, -0.1922,  ..., -0.9922, -0.9922, -0.9216],\n",
      "          ...,\n",
      "          [-0.3176, -0.2941, -0.2941,  ..., -0.8510, -0.8510, -0.8510],\n",
      "          [-0.2235, -0.2157, -0.2157,  ..., -0.8510, -0.8510, -0.8431],\n",
      "          [-0.1922, -0.1922, -0.2000,  ..., -0.8510, -0.8510, -0.8431]],\n",
      "\n",
      "         [[-0.7804, -0.7804, -0.7882,  ..., -0.9922, -0.9922, -0.9529],\n",
      "          [-0.5765, -0.6000, -0.6314,  ..., -0.9922, -0.9922, -0.9451],\n",
      "          [-0.4275, -0.4353, -0.4667,  ..., -0.9922, -0.9922, -0.9216],\n",
      "          ...,\n",
      "          [ 0.4431,  0.4510,  0.4196,  ..., -0.8745, -0.8745, -0.8745],\n",
      "          [ 0.4667,  0.4745,  0.4745,  ..., -0.8745, -0.8745, -0.8667],\n",
      "          [ 0.4980,  0.4980,  0.4902,  ..., -0.8745, -0.8745, -0.8667]]],\n",
      "\n",
      "\n",
      "        ...,\n",
      "\n",
      "\n",
      "        [[[-0.5294, -0.5294, -0.5294,  ..., -0.7569, -0.7176, -0.6078],\n",
      "          [-0.5765, -0.5765, -0.5765,  ..., -0.7569, -0.7176, -0.6078],\n",
      "          [-0.6235, -0.6235, -0.6235,  ..., -0.7490, -0.7020, -0.6000],\n",
      "          ...,\n",
      "          [-0.8588, -0.8588, -0.8588,  ..., -0.8039, -0.8431, -0.7961],\n",
      "          [-0.6549, -0.6549, -0.6549,  ..., -0.8196, -0.8353, -0.8431],\n",
      "          [-0.4353, -0.4353, -0.4353,  ..., -0.8510, -0.8353, -0.8588]],\n",
      "\n",
      "         [[-0.6471, -0.6471, -0.6471,  ..., -0.7882, -0.7725, -0.6941],\n",
      "          [-0.7020, -0.7020, -0.7020,  ..., -0.7804, -0.7569, -0.6941],\n",
      "          [-0.7647, -0.7647, -0.7647,  ..., -0.7725, -0.7412, -0.6863],\n",
      "          ...,\n",
      "          [-0.9294, -0.9294, -0.9294,  ..., -0.7961, -0.8275, -0.8196],\n",
      "          [-0.7569, -0.7569, -0.7569,  ..., -0.7882, -0.8039, -0.8431],\n",
      "          [-0.6078, -0.6078, -0.6078,  ..., -0.8118, -0.7882, -0.8353]],\n",
      "\n",
      "         [[-0.9686, -0.9686, -0.9686,  ..., -0.9137, -0.9059, -0.8824],\n",
      "          [-0.9608, -0.9608, -0.9608,  ..., -0.9137, -0.9137, -0.8980],\n",
      "          [-0.9608, -0.9608, -0.9608,  ..., -0.9216, -0.9216, -0.9059],\n",
      "          ...,\n",
      "          [-0.9451, -0.9451, -0.9451,  ..., -0.8275, -0.8745, -0.8824],\n",
      "          [-0.8588, -0.8588, -0.8588,  ..., -0.8196, -0.8510, -0.8902],\n",
      "          [-0.7961, -0.7961, -0.7961,  ..., -0.8353, -0.8275, -0.8745]]],\n",
      "\n",
      "\n",
      "        [[[ 0.9529,  0.9529,  0.9529,  ...,  0.6784,  0.6706,  0.6784],\n",
      "          [ 0.9529,  0.9451,  0.9373,  ...,  0.6784,  0.6706,  0.6784],\n",
      "          [ 0.9765,  0.9529,  0.9529,  ...,  0.6863,  0.6784,  0.6784],\n",
      "          ...,\n",
      "          [ 0.9529,  0.9373,  0.9216,  ...,  0.6863,  0.6784,  0.6549],\n",
      "          [ 0.9529,  0.9373,  0.9294,  ...,  0.6863,  0.6784,  0.6627],\n",
      "          [ 0.9137,  0.9059,  0.8980,  ...,  0.6863,  0.6784,  0.6706]],\n",
      "\n",
      "         [[ 0.9216,  0.9137,  0.8980,  ...,  0.5765,  0.5686,  0.5608],\n",
      "          [ 0.9137,  0.9059,  0.9059,  ...,  0.5765,  0.5686,  0.5608],\n",
      "          [ 0.9059,  0.8902,  0.8980,  ...,  0.5765,  0.5765,  0.5686],\n",
      "          ...,\n",
      "          [ 0.9373,  0.9294,  0.9137,  ...,  0.6000,  0.5922,  0.5843],\n",
      "          [ 0.9373,  0.9216,  0.9137,  ...,  0.5922,  0.5843,  0.5765],\n",
      "          [ 0.9451,  0.9294,  0.9294,  ...,  0.6000,  0.5922,  0.5843]],\n",
      "\n",
      "         [[ 0.8980,  0.8902,  0.8824,  ...,  0.5451,  0.5216,  0.5294],\n",
      "          [ 0.8902,  0.8824,  0.8824,  ...,  0.5451,  0.5216,  0.5294],\n",
      "          [ 0.8980,  0.8745,  0.8824,  ...,  0.5451,  0.5294,  0.5373],\n",
      "          ...,\n",
      "          [ 0.9451,  0.9529,  0.9451,  ...,  0.5922,  0.5843,  0.5608],\n",
      "          [ 0.9373,  0.9529,  0.9686,  ...,  0.5922,  0.5843,  0.5765],\n",
      "          [ 0.9451,  0.9451,  0.9373,  ...,  0.5608,  0.5529,  0.5686]]],\n",
      "\n",
      "\n",
      "        [[[ 0.7569,  0.7569,  0.7333,  ...,  0.1922,  0.2000,  0.2078],\n",
      "          [ 0.7647,  0.7647,  0.7490,  ...,  0.1765,  0.1843,  0.1843],\n",
      "          [ 0.7804,  0.7725,  0.7647,  ...,  0.1529,  0.1608,  0.1686],\n",
      "          ...,\n",
      "          [-0.0275,  0.0431,  0.1451,  ...,  0.8275,  0.8039,  0.7804],\n",
      "          [ 0.0275,  0.1451,  0.3882,  ...,  0.7804,  0.7647,  0.7255],\n",
      "          [-0.0824,  0.1059,  0.4196,  ...,  0.7333,  0.7098,  0.6706]],\n",
      "\n",
      "         [[ 0.7020,  0.7020,  0.6706,  ...,  0.1686,  0.1765,  0.1922],\n",
      "          [ 0.7098,  0.7098,  0.6863,  ...,  0.1686,  0.1765,  0.1843],\n",
      "          [ 0.7255,  0.7176,  0.7098,  ...,  0.1608,  0.1686,  0.1765],\n",
      "          ...,\n",
      "          [-0.3176, -0.2000, -0.0353,  ...,  0.7176,  0.7020,  0.6784],\n",
      "          [-0.3176, -0.1451,  0.2157,  ...,  0.6863,  0.6706,  0.6471],\n",
      "          [-0.4353, -0.2078,  0.2392,  ...,  0.6314,  0.6157,  0.6000]],\n",
      "\n",
      "         [[ 0.8275,  0.8353,  0.8353,  ...,  0.5373,  0.5373,  0.5216],\n",
      "          [ 0.8431,  0.8510,  0.8431,  ...,  0.5451,  0.5451,  0.5373],\n",
      "          [ 0.8667,  0.8588,  0.8510,  ...,  0.5451,  0.5451,  0.5529],\n",
      "          ...,\n",
      "          [-0.1059, -0.2627, -0.3020,  ...,  0.8196,  0.7961,  0.7804],\n",
      "          [ 0.0431, -0.2471, -0.1373,  ...,  0.7882,  0.7647,  0.7490],\n",
      "          [-0.0039, -0.1451,  0.0588,  ...,  0.7490,  0.7255,  0.7176]]]]), tensor([0, 0, 0, 0, 0, 0, 0, 0, 0, 0, 0, 0, 0, 0, 0, 0, 0, 0, 0, 0, 0, 0, 0, 0,\n",
      "        0, 0, 0, 0, 0, 0, 0, 0, 0, 0, 0, 0, 0, 0, 0, 0, 0, 0, 0, 0, 0, 0, 0, 0,\n",
      "        0, 0, 0, 0, 0, 0, 0, 0, 1, 0, 0, 0, 0, 0, 0, 0, 0, 0, 0, 0, 0, 0, 0, 0,\n",
      "        0, 0, 0, 0, 0, 0, 0, 0, 0, 0, 0, 0, 0, 0, 0, 0, 0, 0, 0, 0, 0, 0, 0, 0,\n",
      "        0, 0, 0, 0, 0, 0, 0, 0, 0, 0, 0, 0, 0, 0, 0, 0, 0, 0, 0, 0, 0, 0, 0, 0,\n",
      "        0, 0, 0, 0, 0, 0, 0, 0, 0, 0, 0, 0, 0, 0, 0, 0, 0, 0, 0, 0, 0, 0, 0, 0,\n",
      "        0, 0, 0, 0, 0, 0, 0, 0, 0, 0, 0, 0, 0, 0, 0, 0, 0, 0, 0, 0, 0, 0, 0, 0,\n",
      "        1, 0, 0, 0, 0, 0, 0, 0, 0, 0, 0, 0, 0, 0, 0, 0, 0, 0, 0, 0, 0, 0, 0, 0,\n",
      "        0, 0, 0, 0, 0, 0, 0, 0, 0, 0, 0, 0, 0, 0, 0, 0, 0, 0, 0, 0, 0, 0, 0, 0,\n",
      "        0, 0, 0, 0, 0, 0, 0, 0, 0, 0, 0, 0, 0, 0, 0, 0, 0, 0, 0, 0, 0, 0, 0, 0,\n",
      "        0, 0, 0, 0, 0, 0, 0, 0, 0, 0, 0, 0, 0, 0, 0, 0])]\n"
     ]
    }
   ],
   "source": [
    "for i in dataloader:\n",
    "    print(i)\n",
    "    break"
   ]
  },
  {
   "cell_type": "code",
   "execution_count": 76,
   "metadata": {},
   "outputs": [],
   "source": [
    "# z input\n",
    "z = torch.randn(1, 100, 1, 1)"
   ]
  },
  {
   "cell_type": "code",
   "execution_count": 78,
   "metadata": {},
   "outputs": [
    {
     "data": {
      "text/plain": [
       "torch.Size([1, 100, 1, 1])"
      ]
     },
     "execution_count": 78,
     "metadata": {},
     "output_type": "execute_result"
    }
   ],
   "source": [
    "z.size()"
   ]
  },
  {
   "cell_type": "code",
   "execution_count": null,
   "metadata": {},
   "outputs": [],
   "source": []
  }
 ],
 "metadata": {
  "kernelspec": {
   "display_name": "Python 3",
   "language": "python",
   "name": "python3"
  },
  "language_info": {
   "codemirror_mode": {
    "name": "ipython",
    "version": 3
   },
   "file_extension": ".py",
   "mimetype": "text/x-python",
   "name": "python",
   "nbconvert_exporter": "python",
   "pygments_lexer": "ipython3",
   "version": "3.7.9"
  }
 },
 "nbformat": 4,
 "nbformat_minor": 2
}
