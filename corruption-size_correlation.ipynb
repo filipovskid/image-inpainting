{
 "cells": [
  {
   "cell_type": "code",
   "execution_count": 83,
   "id": "9df2961d",
   "metadata": {},
   "outputs": [
    {
     "name": "stdout",
     "output_type": "stream",
     "text": [
      "Collecting pyamg\n",
      "  Downloading pyamg-4.1.0.tar.gz (749 kB)\n",
      "\u001b[K     |████████████████████████████████| 749 kB 5.3 MB/s eta 0:00:01\n",
      "\u001b[?25hRequirement already satisfied: numpy>=1.7.0 in /opt/conda/lib/python3.7/site-packages (from pyamg) (1.19.5)\n",
      "Requirement already satisfied: scipy>=0.12.0 in /opt/conda/lib/python3.7/site-packages (from pyamg) (1.7.1)\n",
      "Collecting pytest>=2\n",
      "  Downloading pytest-6.2.5-py3-none-any.whl (280 kB)\n",
      "\u001b[K     |████████████████████████████████| 280 kB 77.0 MB/s eta 0:00:01\n",
      "\u001b[?25hCollecting py>=1.8.2\n",
      "  Downloading py-1.10.0-py2.py3-none-any.whl (97 kB)\n",
      "\u001b[K     |████████████████████████████████| 97 kB 8.6 MB/s  eta 0:00:01\n",
      "\u001b[?25hCollecting toml\n",
      "  Downloading toml-0.10.2-py2.py3-none-any.whl (16 kB)\n",
      "Collecting iniconfig\n",
      "  Downloading iniconfig-1.1.1-py2.py3-none-any.whl (5.0 kB)\n",
      "Requirement already satisfied: packaging in /opt/conda/lib/python3.7/site-packages (from pytest>=2->pyamg) (21.0)\n",
      "Requirement already satisfied: attrs>=19.2.0 in /opt/conda/lib/python3.7/site-packages (from pytest>=2->pyamg) (21.2.0)\n",
      "Requirement already satisfied: importlib-metadata>=0.12 in /opt/conda/lib/python3.7/site-packages (from pytest>=2->pyamg) (4.8.1)\n",
      "Collecting pluggy<2.0,>=0.12\n",
      "  Downloading pluggy-1.0.0-py2.py3-none-any.whl (13 kB)\n",
      "Requirement already satisfied: typing-extensions>=3.6.4 in /opt/conda/lib/python3.7/site-packages (from importlib-metadata>=0.12->pytest>=2->pyamg) (3.10.0.0)\n",
      "Requirement already satisfied: zipp>=0.5 in /opt/conda/lib/python3.7/site-packages (from importlib-metadata>=0.12->pytest>=2->pyamg) (3.5.0)\n",
      "Requirement already satisfied: pyparsing>=2.0.2 in /opt/conda/lib/python3.7/site-packages (from packaging->pytest>=2->pyamg) (2.4.7)\n",
      "Building wheels for collected packages: pyamg\n",
      "  Building wheel for pyamg (setup.py) ... \u001b[?25ldone\n",
      "\u001b[?25h  Created wheel for pyamg: filename=pyamg-4.1.0-cp37-cp37m-linux_x86_64.whl size=10530498 sha256=23eb3499e9a7a0cab563b8e7bf6adc2646ff77b09403c09c26095ec13d7c0e2a\n",
      "  Stored in directory: /home/jupyter/.cache/pip/wheels/64/77/6f/2117a1d8d3c9b2d5e3d0f18476658bd6db1ced0395b251eac0\n",
      "Successfully built pyamg\n",
      "Installing collected packages: toml, py, pluggy, iniconfig, pytest, pyamg\n",
      "Successfully installed iniconfig-1.1.1 pluggy-1.0.0 py-1.10.0 pyamg-4.1.0 pytest-6.2.5 toml-0.10.2\n",
      "Note: you may need to restart the kernel to use updated packages.\n"
     ]
    }
   ],
   "source": [
    "%pip install pyamg"
   ]
  },
  {
   "cell_type": "code",
   "execution_count": 1,
   "id": "1c2002ac",
   "metadata": {},
   "outputs": [],
   "source": [
    "from google.cloud import storage"
   ]
  },
  {
   "cell_type": "code",
   "execution_count": 71,
   "id": "c805fb00",
   "metadata": {},
   "outputs": [
    {
     "name": "stdout",
     "output_type": "stream",
     "text": [
      "/home/jupyter\n"
     ]
    }
   ],
   "source": [
    "%cd /home/jupyter\n",
    "!mkdir data\n",
    "!mkdir models\n",
    "!mkdir data/ffhq_HQ"
   ]
  },
  {
   "cell_type": "code",
   "execution_count": 72,
   "id": "302b0dc8",
   "metadata": {},
   "outputs": [
    {
     "name": "stdout",
     "output_type": "stream",
     "text": [
      "Copying gs://iimage-npainting-aiplatform/data/ffhq_HQ.zip...\n",
      "\\ [1 files][131.1 MiB/131.1 MiB]                                                \n",
      "Operation completed over 1 objects/131.1 MiB.                                    \n"
     ]
    }
   ],
   "source": [
    "!gsutil cp gs://iimage-npainting-aiplatform/data/ffhq_HQ.zip ./data/ffhq_HQ.zip"
   ]
  },
  {
   "cell_type": "code",
   "execution_count": 73,
   "id": "30dc60e2",
   "metadata": {},
   "outputs": [
    {
     "name": "stdout",
     "output_type": "stream",
     "text": [
      "Copying gs://iimage-npainting-aiplatform/models/stylegan-256px-new.model...\n",
      "==> NOTE: You are downloading one or more large file(s), which would            \n",
      "run significantly faster if you enabled sliced object downloads. This\n",
      "feature is enabled by default but requires that compiled crcmod be\n",
      "installed (see \"gsutil help crcmod\").\n",
      "\n",
      "/ [1 files][691.8 MiB/691.8 MiB]                                                \n",
      "Operation completed over 1 objects/691.8 MiB.                                    \n"
     ]
    }
   ],
   "source": [
    "!gsutil cp gs://iimage-npainting-aiplatform/models/stylegan-256px-new.model ./models/stylegan-256px-new.model"
   ]
  },
  {
   "cell_type": "code",
   "execution_count": 74,
   "id": "b5e7a05a",
   "metadata": {},
   "outputs": [
    {
     "name": "stdout",
     "output_type": "stream",
     "text": [
      "checkdir:  cannot create extraction directory: /data/ffhq_HQ\n",
      "           No such file or directory\n"
     ]
    }
   ],
   "source": [
    "!unzip -qq ./data/ffhq_HQ.zip -d /data/ffhq_HQ"
   ]
  },
  {
   "cell_type": "code",
   "execution_count": 75,
   "id": "f7fcfb8c",
   "metadata": {},
   "outputs": [
    {
     "name": "stdout",
     "output_type": "stream",
     "text": [
      "mkdir: cannot create directory ‘output’: File exists\n"
     ]
    }
   ],
   "source": [
    "!mkdir output"
   ]
  },
  {
   "cell_type": "markdown",
   "id": "5cee54e6",
   "metadata": {},
   "source": [
    "# Evaluation"
   ]
  },
  {
   "cell_type": "code",
   "execution_count": 81,
   "id": "98b992cd",
   "metadata": {},
   "outputs": [],
   "source": [
    "stylegan_checkpoint = '\"models/stylegan-256px-new.model\"'\n",
    "ffhq_HQ_test = '/home/jupyter/data/ffhq_HQ'\n",
    "home_prefix = '/home/jupyter/'\n",
    "rr_20_masks = f'{home_prefix}data/rr_20_masks'\n",
    "rr_30_masks = f'{home_prefix}data/rr_30_masks'\n",
    "rr_40_masks = f'{home_prefix}data/rr_40_masks'\n",
    "rr_50_masks = f'{home_prefix}data/rr_50_masks'\n",
    "rr_60_masks = f'{home_prefix}data/rr_60_masks'\n",
    "rr_70_masks = f'{home_prefix}data/rr_70_masks'\n",
    "rr_80_masks = f'{home_prefix}data/rr_80_masks'\n",
    "noise_80p_masks64x64 = 'data/noise_80p_masks64x64'\n",
    "noise_20p_masks256x256 = f'{home_prefix}data/noise_20p_masks256x256'\n",
    "noise_30p_masks256x256 = f'{home_prefix}data/noise_30p_masks256x256'\n",
    "noise_40p_masks256x256 = f'{home_prefix}data/noise_40p_masks256x256'\n",
    "noise_50p_masks256x256 = f'{home_prefix}data/noise_50p_masks256x256'\n",
    "noise_60p_masks256x256 = f'{home_prefix}data/noise_60p_masks256x256'\n",
    "noise_70p_masks256x256 = f'{home_prefix}data/noise_70p_masks256x256'\n",
    "noise_80p_masks256x256 = f'{home_prefix}data/noise_80p_masks256x256'\n",
    "# qd_masks = '/content/data/test_data/qd_masks'\n",
    "output_path = f'{home_prefix}output'\n",
    "drive_output_path = \"/content/drive/My Drive/Projects/iis-project/data/output\"\n",
    "dcgan_rr_output = f'\"{drive_output_path}/dcgan_rr_output\"'\n",
    "dcgan_noise_80p_output = f'\"{drive_output_path}/dcgan_noise_80p_output\"'\n",
    "dcgan_qd_output = f'\"{drive_output_path}/dcgan_qd_output\"'\n",
    "stylegan_rr_20_output = f'\"{output_path}/stylegan_rr_20_output\"'\n",
    "stylegan_rr_30_output = f'\"{output_path}/stylegan_rr_30_output\"'\n",
    "stylegan_rr_40_output = f'\"{output_path}/stylegan_rr_40_output\"'\n",
    "stylegan_rr_50_output = f'\"{output_path}/stylegan_rr_50_output\"'\n",
    "stylegan_rr_60_output = f'\"{output_path}/stylegan_rr_60_output\"'\n",
    "stylegan_rr_70_output = f'\"{output_path}/stylegan_rr_70_output\"'\n",
    "stylegan_rr_80_output = f'\"{output_path}/stylegan_rr_80_output\"'\n",
    "stylegan_qd_output = f'\"{drive_output_path}/stylegan_qd_output\"'\n",
    "stylegan_noise_20p_output = f'\"{output_path}/stylegan_noise_20p_output\"'\n",
    "stylegan_noise_30p_output = f'\"{output_path}/stylegan_noise_30p_output\"'\n",
    "stylegan_noise_40p_output = f'\"{output_path}/stylegan_noise_40p_output\"'\n",
    "stylegan_noise_50p_output = f'\"{output_path}/stylegan_noise_50p_output\"'\n",
    "stylegan_noise_60p_output = f'\"{output_path}/stylegan_noise_60p_output\"'\n",
    "stylegan_noise_70p_output = f'\"{output_path}/stylegan_noise_70p_output\"'\n",
    "stylegan_noise_80p_output = f'\"{output_path}/stylegan_noise_80p_output\"'\n",
    "partial_stylegan_noise_80p_output = f'\"{drive_output_path}/partial-stylegan_noise_80p_output\"'"
   ]
  },
  {
   "cell_type": "markdown",
   "id": "263aa465",
   "metadata": {},
   "source": [
    "## Masks"
   ]
  },
  {
   "cell_type": "code",
   "execution_count": 80,
   "id": "7917dce1",
   "metadata": {},
   "outputs": [
    {
     "name": "stdout",
     "output_type": "stream",
     "text": [
      "/home/jupyter/image-inpainting\n",
      "/home/jupyter\n"
     ]
    }
   ],
   "source": [
    "# Random rectangle masks -> 10-20%\n",
    "%cd /home/jupyter/image-inpainting\n",
    "!python -m src.scripts.generate_masks -o $rr_20_masks --type rr --width 512 --height 512 --count 100 --lower 0.1 --upper .2\n",
    "%cd ../"
   ]
  },
  {
   "cell_type": "markdown",
   "id": "38e0a7a8",
   "metadata": {},
   "source": [
    "## StyleGAN"
   ]
  },
  {
   "cell_type": "code",
   "execution_count": 85,
   "id": "8f3e8fed",
   "metadata": {},
   "outputs": [
    {
     "name": "stdout",
     "output_type": "stream",
     "text": [
      "Traceback (most recent call last):\n",
      "  File \"image-inpainting/src/evaluation_generator.py\", line 136, in <module>\n",
      "    main()\n",
      "  File \"image-inpainting/src/evaluation_generator.py\", line 132, in main\n",
      "    skip=args.skip)\n",
      "  File \"image-inpainting/src/evaluation_generator.py\", line 88, in inpaint_images\n",
      "    inpainter = inpaint_models[model_type](checkpoint)\n",
      "  File \"image-inpainting/src/evaluation_generator.py\", line 84, in <lambda>\n",
      "    'stylegan': lambda chkp: stylegan_inpaint_model(chkp)\n",
      "  File \"image-inpainting/src/evaluation_generator.py\", line 56, in stylegan_inpaint_model\n",
      "    return InpaintModel(model_filename=checkpoint, config=_styleganConfig, gan_type='stylegan')\n",
      "  File \"/home/jupyter/image-inpainting/src/inpaint_model.py\", line 30, in __init__\n",
      "    self.G, self.D = self.load_model(model_filename)\n",
      "  File \"/home/jupyter/image-inpainting/src/inpaint_model.py\", line 43, in load_model\n",
      "    return load_stylegan(model_filename, device=self.device)\n",
      "  File \"/home/jupyter/image-inpainting/src/styleGAN/model.py\", line 600, in load_model\n",
      "    checkpoint = torch.load(model_filename)\n",
      "  File \"/opt/conda/lib/python3.7/site-packages/torch/serialization.py\", line 608, in load\n",
      "    return _legacy_load(opened_file, map_location, pickle_module, **pickle_load_args)\n",
      "  File \"/opt/conda/lib/python3.7/site-packages/torch/serialization.py\", line 787, in _legacy_load\n",
      "    result = unpickler.load()\n",
      "  File \"/opt/conda/lib/python3.7/site-packages/torch/serialization.py\", line 743, in persistent_load\n",
      "    deserialized_objects[root_key] = restore_location(obj, location)\n",
      "  File \"/opt/conda/lib/python3.7/site-packages/torch/serialization.py\", line 175, in default_restore_location\n",
      "    result = fn(storage, location)\n",
      "  File \"/opt/conda/lib/python3.7/site-packages/torch/serialization.py\", line 151, in _cuda_deserialize\n",
      "    device = validate_cuda_device(location)\n",
      "  File \"/opt/conda/lib/python3.7/site-packages/torch/serialization.py\", line 135, in validate_cuda_device\n",
      "    raise RuntimeError('Attempting to deserialize object on a CUDA '\n",
      "RuntimeError: Attempting to deserialize object on a CUDA device but torch.cuda.is_available() is False. If you are running on a CPU-only machine, please use torch.load with map_location=torch.device('cpu') to map your storages to the CPU.\n"
     ]
    }
   ],
   "source": [
    "# Inpainting images corrupted with random rectangle masks -> 10-20%\n",
    "!python image-inpainting/src/evaluation_generator.py --gt-path $ffhq_HQ_test --masks-path $rr_20_masks --image-size 256 --type stylegan --checkpoint $stylegan_checkpoint --output-path $stylegan_rr_20_output --batch-size 10 --skip 10"
   ]
  },
  {
   "cell_type": "code",
   "execution_count": null,
   "id": "3b03f576",
   "metadata": {},
   "outputs": [],
   "source": []
  }
 ],
 "metadata": {
  "environment": {
   "name": "pytorch-gpu.1-9.m79",
   "type": "gcloud",
   "uri": "gcr.io/deeplearning-platform-release/pytorch-gpu.1-9:m79"
  },
  "kernelspec": {
   "display_name": "Python 3",
   "language": "python",
   "name": "python3"
  },
  "language_info": {
   "codemirror_mode": {
    "name": "ipython",
    "version": 3
   },
   "file_extension": ".py",
   "mimetype": "text/x-python",
   "name": "python",
   "nbconvert_exporter": "python",
   "pygments_lexer": "ipython3",
   "version": "3.7.10"
  }
 },
 "nbformat": 4,
 "nbformat_minor": 5
}
