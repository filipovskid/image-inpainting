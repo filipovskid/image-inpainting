{
 "cells": [
  {
   "cell_type": "code",
   "execution_count": 41,
   "id": "22c001d2",
   "metadata": {},
   "outputs": [
    {
     "name": "stdout",
     "output_type": "stream",
     "text": [
      "Requirement already satisfied: pyamg in /opt/conda/lib/python3.7/site-packages (4.1.0)\n",
      "Requirement already satisfied: pytest>=2 in /opt/conda/lib/python3.7/site-packages (from pyamg) (6.2.5)\n",
      "Requirement already satisfied: numpy>=1.7.0 in /opt/conda/lib/python3.7/site-packages (from pyamg) (1.19.5)\n",
      "Requirement already satisfied: scipy>=0.12.0 in /opt/conda/lib/python3.7/site-packages (from pyamg) (1.7.1)\n",
      "Requirement already satisfied: toml in /opt/conda/lib/python3.7/site-packages (from pytest>=2->pyamg) (0.10.2)\n",
      "Requirement already satisfied: importlib-metadata>=0.12 in /opt/conda/lib/python3.7/site-packages (from pytest>=2->pyamg) (4.8.1)\n",
      "Requirement already satisfied: packaging in /opt/conda/lib/python3.7/site-packages (from pytest>=2->pyamg) (21.0)\n",
      "Requirement already satisfied: pluggy<2.0,>=0.12 in /opt/conda/lib/python3.7/site-packages (from pytest>=2->pyamg) (1.0.0)\n",
      "Requirement already satisfied: iniconfig in /opt/conda/lib/python3.7/site-packages (from pytest>=2->pyamg) (1.1.1)\n",
      "Requirement already satisfied: attrs>=19.2.0 in /opt/conda/lib/python3.7/site-packages (from pytest>=2->pyamg) (21.2.0)\n",
      "Requirement already satisfied: py>=1.8.2 in /opt/conda/lib/python3.7/site-packages (from pytest>=2->pyamg) (1.10.0)\n",
      "Requirement already satisfied: zipp>=0.5 in /opt/conda/lib/python3.7/site-packages (from importlib-metadata>=0.12->pytest>=2->pyamg) (3.5.0)\n",
      "Requirement already satisfied: typing-extensions>=3.6.4 in /opt/conda/lib/python3.7/site-packages (from importlib-metadata>=0.12->pytest>=2->pyamg) (3.10.0.0)\n",
      "Requirement already satisfied: pyparsing>=2.0.2 in /opt/conda/lib/python3.7/site-packages (from packaging->pytest>=2->pyamg) (2.4.7)\n",
      "Note: you may need to restart the kernel to use updated packages.\n",
      "Collecting gputil\n",
      "  Downloading GPUtil-1.4.0.tar.gz (5.5 kB)\n",
      "Building wheels for collected packages: gputil\n",
      "  Building wheel for gputil (setup.py) ... \u001b[?25ldone\n",
      "\u001b[?25h  Created wheel for gputil: filename=GPUtil-1.4.0-py3-none-any.whl size=7411 sha256=7973866cb759bc663d688dc954e25aa062c61bdc4a32a8bdcde430990732bdb3\n",
      "  Stored in directory: /home/jupyter/.cache/pip/wheels/6e/f8/83/534c52482d6da64622ddbf72cd93c35d2ef2881b78fd08ff0c\n",
      "Successfully built gputil\n",
      "Installing collected packages: gputil\n",
      "Successfully installed gputil-1.4.0\n",
      "Note: you may need to restart the kernel to use updated packages.\n"
     ]
    }
   ],
   "source": [
    "%pip install pyamg\n",
    "%pip install gputil"
   ]
  },
  {
   "cell_type": "code",
   "execution_count": 1,
   "id": "cf01e4f2",
   "metadata": {},
   "outputs": [],
   "source": [
    "from google.cloud import storage"
   ]
  },
  {
   "cell_type": "code",
   "execution_count": 2,
   "id": "32e7f1fb",
   "metadata": {},
   "outputs": [
    {
     "name": "stdout",
     "output_type": "stream",
     "text": [
      "/home/jupyter\n"
     ]
    }
   ],
   "source": [
    "%cd /home/jupyter\n",
    "!mkdir data\n",
    "!mkdir models\n",
    "!mkdir data/ffhq_HQ"
   ]
  },
  {
   "cell_type": "code",
   "execution_count": 3,
   "id": "b4aca7f4",
   "metadata": {},
   "outputs": [
    {
     "name": "stdout",
     "output_type": "stream",
     "text": [
      "Copying gs://iimage-npainting-aiplatform/data/ffhq_HQ.zip...\n",
      "| [1 files][131.1 MiB/131.1 MiB]                                                \n",
      "Operation completed over 1 objects/131.1 MiB.                                    \n"
     ]
    }
   ],
   "source": [
    "!gsutil cp gs://iimage-npainting-aiplatform/data/ffhq_HQ.zip ./data/ffhq_HQ.zip"
   ]
  },
  {
   "cell_type": "code",
   "execution_count": 4,
   "id": "14fdfe30",
   "metadata": {},
   "outputs": [
    {
     "name": "stdout",
     "output_type": "stream",
     "text": [
      "Copying gs://iimage-npainting-aiplatform/models/stylegan-256px-new.model...\n",
      "==> NOTE: You are downloading one or more large file(s), which would            \n",
      "run significantly faster if you enabled sliced object downloads. This\n",
      "feature is enabled by default but requires that compiled crcmod be\n",
      "installed (see \"gsutil help crcmod\").\n",
      "\n",
      "/ [1 files][691.8 MiB/691.8 MiB]                                                \n",
      "Operation completed over 1 objects/691.8 MiB.                                    \n"
     ]
    }
   ],
   "source": [
    "!gsutil cp gs://iimage-npainting-aiplatform/models/stylegan-256px-new.model ./models/stylegan-256px-new.model"
   ]
  },
  {
   "cell_type": "code",
   "execution_count": 17,
   "id": "90c37202",
   "metadata": {},
   "outputs": [],
   "source": [
    "!unzip -qq ./data/ffhq_HQ.zip -d ./data/ffhq_HQ\n",
    "!mv data/ffhq_HQ/content/data/test_data/ffhq_HQ/* data/ffhq_HQ\n",
    "!rm -r data/ffhq_HQ/content"
   ]
  },
  {
   "cell_type": "code",
   "execution_count": 6,
   "id": "72179c3c",
   "metadata": {},
   "outputs": [],
   "source": [
    "!mkdir output"
   ]
  },
  {
   "cell_type": "markdown",
   "id": "2587c677",
   "metadata": {},
   "source": [
    "# Evaluation"
   ]
  },
  {
   "cell_type": "code",
   "execution_count": 60,
   "id": "9ac4ba60",
   "metadata": {},
   "outputs": [],
   "source": [
    "stylegan_checkpoint = '\"models/stylegan-256px-new.model\"'\n",
    "ffhq_HQ_test = '/home/jupyter/data/ffhq_HQ'\n",
    "home_prefix = '/home/jupyter/'\n",
    "rr_20_masks = f'{home_prefix}data/rr_20_masks'\n",
    "rr_30_masks = f'{home_prefix}data/rr_30_masks'\n",
    "rr_40_masks = f'{home_prefix}data/rr_40_masks'\n",
    "rr_50_masks = f'{home_prefix}data/rr_50_masks'\n",
    "rr_60_masks = f'{home_prefix}data/rr_60_masks'\n",
    "rr_70_masks = f'{home_prefix}data/rr_70_masks'\n",
    "rr_80_masks = f'{home_prefix}data/rr_80_masks'\n",
    "noise_80p_masks64x64 = 'data/noise_80p_masks64x64'\n",
    "noise_20p_masks256x256 = f'{home_prefix}data/noise_20p_masks256x256'\n",
    "noise_30p_masks256x256 = f'{home_prefix}data/noise_30p_masks256x256'\n",
    "noise_40p_masks256x256 = f'{home_prefix}data/noise_40p_masks256x256'\n",
    "noise_50p_masks256x256 = f'{home_prefix}data/noise_50p_masks256x256'\n",
    "noise_60p_masks256x256 = f'{home_prefix}data/noise_60p_masks256x256'\n",
    "noise_70p_masks256x256 = f'{home_prefix}data/noise_70p_masks256x256'\n",
    "noise_80p_masks256x256 = f'{home_prefix}data/noise_80p_masks256x256'\n",
    "# qd_masks = '/content/data/test_data/qd_masks'\n",
    "output_path = f'{home_prefix}output'\n",
    "drive_output_path = \"/content/drive/My Drive/Projects/iis-project/data/output\"\n",
    "dcgan_rr_output = f'\"{drive_output_path}/dcgan_rr_output\"'\n",
    "dcgan_noise_80p_output = f'\"{drive_output_path}/dcgan_noise_80p_output\"'\n",
    "dcgan_qd_output = f'\"{drive_output_path}/dcgan_qd_output\"'\n",
    "stylegan_rr_20_output = f'\"{output_path}/stylegan_rr_20_output\"'\n",
    "stylegan_rr_30_output = f'\"{output_path}/stylegan_rr_30_output\"'\n",
    "stylegan_rr_40_output = f'\"{output_path}/stylegan_rr_40_output\"'\n",
    "stylegan_rr_50_output = f'\"{output_path}/stylegan_rr_50_output\"'\n",
    "stylegan_rr_60_output = f'\"{output_path}/stylegan_rr_60_output\"'\n",
    "stylegan_rr_70_output = f'\"{output_path}/stylegan_rr_70_output\"'\n",
    "stylegan_rr_80_output = f'\"{output_path}/stylegan_rr_80_output\"'\n",
    "stylegan_qd_output = f'\"{drive_output_path}/stylegan_qd_output\"'\n",
    "stylegan_noise_20p_output = f'\"{output_path}/stylegan_noise_20p_output\"'\n",
    "stylegan_noise_30p_output = f'\"{output_path}/stylegan_noise_30p_output\"'\n",
    "stylegan_noise_40p_output = f'\"{output_path}/stylegan_noise_40p_output\"'\n",
    "stylegan_noise_50p_output = f'\"{output_path}/stylegan_noise_50p_output\"'\n",
    "stylegan_noise_60p_output = f'\"{output_path}/stylegan_noise_60p_output\"'\n",
    "stylegan_noise_70p_output = f'\"{output_path}/stylegan_noise_70p_output\"'\n",
    "stylegan_noise_80p_output = f'\"{output_path}/stylegan_noise_80p_output\"'\n",
    "partial_stylegan_noise_80p_output = f'\"{drive_output_path}/partial-stylegan_noise_80p_output\"'"
   ]
  },
  {
   "cell_type": "markdown",
   "id": "6fd3e205",
   "metadata": {},
   "source": [
    "## Masks"
   ]
  },
  {
   "cell_type": "markdown",
   "id": "2cb5a41e",
   "metadata": {},
   "source": [
    "### Random rectangle"
   ]
  },
  {
   "cell_type": "code",
   "execution_count": 8,
   "id": "4606e1b6",
   "metadata": {},
   "outputs": [
    {
     "name": "stdout",
     "output_type": "stream",
     "text": [
      "/home/jupyter/image-inpainting\n",
      "/home/jupyter\n"
     ]
    }
   ],
   "source": [
    "# Random rectangle masks -> 10-20%\n",
    "%cd /home/jupyter/image-inpainting\n",
    "!python -m src.scripts.generate_masks -o $rr_20_masks --type rr --width 512 --height 512 --count 100 --lower 0.1 --upper .2\n",
    "%cd ../"
   ]
  },
  {
   "cell_type": "code",
   "execution_count": null,
   "id": "d2fb9844",
   "metadata": {},
   "outputs": [],
   "source": [
    "# Random rectangle masks -> 40-50%\n",
    "%cd /home/jupyter/image-inpainting\n",
    "!python -m src.scripts.generate_masks -o $rr_50_masks --type rr --width 512 --height 512 --count 100 --lower 0.4 --upper .5\n",
    "%cd ../"
   ]
  },
  {
   "cell_type": "code",
   "execution_count": null,
   "id": "0e12be6f",
   "metadata": {},
   "outputs": [],
   "source": [
    "# Random rectangle masks -> 60-70%\n",
    "%cd /home/jupyter/image-inpainting\n",
    "!python -m src.scripts.generate_masks -o $rr_70_masks --type rr --width 512 --height 512 --count 100 --lower 0.6 --upper .7\n",
    "%cd ../"
   ]
  },
  {
   "cell_type": "markdown",
   "id": "20637a92",
   "metadata": {},
   "source": [
    "### Noise"
   ]
  },
  {
   "cell_type": "code",
   "execution_count": null,
   "id": "4d744f14",
   "metadata": {},
   "outputs": [],
   "source": [
    "# Noise masks 256x256 - 20%\n",
    "%cd /content/image-inpainting\n",
    "!python -m src.scripts.generate_masks -o $noise_20p_masks256x256 --type noise --percent 0.2 --width 256 --height 256 --count 100\n",
    "%cd /content/image-inpainting/src"
   ]
  },
  {
   "cell_type": "code",
   "execution_count": null,
   "id": "32e97d7f",
   "metadata": {},
   "outputs": [],
   "source": [
    "# Noise masks 256x256 - 50%\n",
    "%cd /content/image-inpainting\n",
    "!python -m src.scripts.generate_masks -o $noise_50p_masks256x256 --type noise --percent 0.5 --width 256 --height 256 --count 100\n",
    "%cd /content/image-inpainting/src"
   ]
  },
  {
   "cell_type": "code",
   "execution_count": null,
   "id": "f28c669b",
   "metadata": {},
   "outputs": [],
   "source": [
    "# Noise masks 256x256 - 70%\n",
    "%cd /content/image-inpainting\n",
    "!python -m src.scripts.generate_masks -o $noise_70p_masks256x256 --type noise --percent 0.7 --width 256 --height 256 --count 100\n",
    "%cd /content/image-inpainting/src"
   ]
  },
  {
   "cell_type": "markdown",
   "id": "a68192be",
   "metadata": {},
   "source": [
    "## StyleGAN"
   ]
  },
  {
   "cell_type": "code",
   "execution_count": null,
   "id": "d9d21e2b",
   "metadata": {},
   "outputs": [
    {
     "name": "stdout",
     "output_type": "stream",
     "text": [
      "Batch: 0.0\n",
      "/home/jupyter/image-inpainting/src/utils/helpers.py:22: UserWarning: To copy construct from a tensor, it is recommended to use sourceTensor.clone().detach() or sourceTensor.clone().detach().requires_grad_(True), rather than torch.tensor(sourceTensor).\n",
      "  bmasks = torch.tensor(masks)\n",
      "  8%|███▏                                  | 255/3000 [08:27<1:31:10,  1.99s/it]"
     ]
    }
   ],
   "source": [
    "# Inpainting images corrupted with random rectangle masks -> 10-20%\n",
    "!python image-inpainting/src/evaluation_generator.py --gt-path $ffhq_HQ_test --masks-path $rr_20_masks --image-size 256 --type stylegan --checkpoint $stylegan_checkpoint --output-path $stylegan_rr_20_output --batch-size 25"
   ]
  },
  {
   "cell_type": "code",
   "execution_count": null,
   "id": "d8d22488",
   "metadata": {},
   "outputs": [],
   "source": [
    "# Inpainting images corrupted with random rectangle masks -> 40-50%\n",
    "!python image-inpainting/src/evaluation_generator.py --gt-path $ffhq_HQ_test --masks-path $rr_50_masks --image-size 256 --type stylegan --checkpoint $stylegan_checkpoint --output-path $stylegan_rr_50_output --batch-size 25"
   ]
  },
  {
   "cell_type": "code",
   "execution_count": null,
   "id": "40ef3068",
   "metadata": {},
   "outputs": [],
   "source": [
    "# Inpainting images corrupted with random rectangle masks -> 60-70%\n",
    "!python image-inpainting/src/evaluation_generator.py --gt-path $ffhq_HQ_test --masks-path $rr_70_masks --image-size 256 --type stylegan --checkpoint $stylegan_checkpoint --output-path $stylegan_rr_70_output --batch-size 25"
   ]
  },
  {
   "cell_type": "markdown",
   "id": "b002fe1e",
   "metadata": {},
   "source": [
    "<hr>"
   ]
  },
  {
   "cell_type": "code",
   "execution_count": null,
   "id": "650815fa",
   "metadata": {},
   "outputs": [],
   "source": [
    "# Inpainting images corrupted with random noise - 20%\n",
    "!python evaluation_generator.py --gt-path $ffhq_HQ_test --masks-path $noise_20p_masks256x256 --image-size 256 --type stylegan --checkpoint $stylegan_checkpoint --output-path $stylegan_noise_20p_output --batch-size 25"
   ]
  },
  {
   "cell_type": "code",
   "execution_count": null,
   "id": "c8bd9ac4",
   "metadata": {},
   "outputs": [],
   "source": [
    "# Inpainting images corrupted with random noise - 50%\n",
    "!python evaluation_generator.py --gt-path $ffhq_HQ_test --masks-path $noise_50p_masks256x256 --image-size 256 --type stylegan --checkpoint $stylegan_checkpoint --output-path $stylegan_noise_50p_output --batch-size 25"
   ]
  },
  {
   "cell_type": "code",
   "execution_count": null,
   "id": "08f8af4f",
   "metadata": {},
   "outputs": [],
   "source": [
    "# Inpainting images corrupted with random noise - 70%\n",
    "!python evaluation_generator.py --gt-path $ffhq_HQ_test --masks-path $noise_70p_masks256x256 --image-size 256 --type stylegan --checkpoint $stylegan_checkpoint --output-path $stylegan_noise_70p_output --batch-size 25"
   ]
  }
 ],
 "metadata": {
  "environment": {
   "name": "pytorch-gpu.1-9.m79",
   "type": "gcloud",
   "uri": "gcr.io/deeplearning-platform-release/pytorch-gpu.1-9:m79"
  },
  "kernelspec": {
   "display_name": "Python 3",
   "language": "python",
   "name": "python3"
  },
  "language_info": {
   "codemirror_mode": {
    "name": "ipython",
    "version": 3
   },
   "file_extension": ".py",
   "mimetype": "text/x-python",
   "name": "python",
   "nbconvert_exporter": "python",
   "pygments_lexer": "ipython3",
   "version": "3.7.10"
  }
 },
 "nbformat": 4,
 "nbformat_minor": 5
}
